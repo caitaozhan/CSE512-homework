{
 "cells": [
  {
   "cell_type": "code",
   "execution_count": 3,
   "metadata": {
    "collapsed": true
   },
   "outputs": [],
   "source": [
    "import os\n",
    "os.environ[\"CUDA_VISIBLE_DEVICES\"] = \"1\"\n",
    "\n",
    "import torch\n",
    "import torch.nn as nn\n",
    "torch.manual_seed(0)\n",
    "device = torch.device(\"cuda\")\n",
    "\n",
    "import torch.optim as optim\n",
    "import torch.nn.functional as F\n",
    "import numpy as np\n",
    "\n",
    "import matplotlib.pyplot as plt\n",
    "%matplotlib inline\n",
    "from IPython.display import clear_output"
   ]
  },
  {
   "cell_type": "code",
   "execution_count": 4,
   "metadata": {
    "collapsed": true
   },
   "outputs": [],
   "source": [
    "import torchvision\n",
    "import torchvision.datasets as dset\n",
    "import torchvision.transforms as T\n",
    "\n",
    "from PIL import Image\n",
    "from torch.utils.data import DataLoader,sampler,Dataset\n",
    "\n",
    "import scipy.io\n",
    "\n",
    "label_mat=scipy.io.loadmat('./data/hw6_data.mat')\n",
    "label_train=label_mat['trLb']\n",
    "label_val=label_mat['valLb']\n",
    "\n",
    "class ActionDataset(Dataset):\n",
    "    def __init__(self,  root_dir,labels=[], transform=None):\n",
    "        self.root_dir = root_dir\n",
    "        self.transform = transform\n",
    "        self.length=len(os.listdir(self.root_dir))\n",
    "        self.labels=labels\n",
    "        \n",
    "    def __len__(self):\n",
    "        return self.length*3\n",
    "\n",
    "    def __getitem__(self, idx):\n",
    "        \n",
    "        folder=int(idx/3)+1\n",
    "        imidx=idx%3+1\n",
    "        folder=format(folder,'05d')\n",
    "        imgname=str(imidx)+'.jpg'\n",
    "        img_path = os.path.join(self.root_dir,\n",
    "                                folder,imgname)\n",
    "        image = Image.open(img_path)\n",
    "        if len(self.labels)!=0:\n",
    "            Label=self.labels[int(idx/3)][0]-1\n",
    "        if self.transform:\n",
    "            image = self.transform(image)\n",
    "        if len(self.labels)!=0:\n",
    "            sample={'image':image,'img_path':img_path,'Label':Label}\n",
    "        else:\n",
    "            sample={'image':image,'img_path':img_path}\n",
    "        return sample"
   ]
  },
  {
   "cell_type": "code",
   "execution_count": 5,
   "metadata": {
    "collapsed": true
   },
   "outputs": [],
   "source": [
    "train_tf = T.Compose([\n",
    "    T.Resize((224,224)),\n",
    "    T.ToTensor(),\n",
    "    T.Normalize(mean=[0.485, 0.456, 0.406], std=[0.229, 0.224, 0.225])\n",
    "])\n",
    "\n",
    "import torchvision.models as models\n",
    "resnet18 = models.resnet18(pretrained=True).cuda()\n",
    "resnet18.eval()\n",
    "\n",
    "image_dataset_train=ActionDataset(root_dir='./data/trainClips/',\n",
    "                                  labels=label_train,transform=train_tf)\n",
    "image_dataloader_train = DataLoader(image_dataset_train, batch_size=32, \n",
    "                                    shuffle=True, num_workers=4)\n",
    "\n",
    "image_dataset_val = ActionDataset(root_dir='./data/valClips/',\n",
    "                                labels=label_val,transform=train_tf)\n",
    "image_dataloader_val = DataLoader(image_dataset_val, batch_size=32, \n",
    "                                  shuffle=False, num_workers=4)\n",
    "\n",
    "image_dataset_test=ActionDataset(root_dir='./data/testClips/',\n",
    "                                 labels=[],transform=train_tf)\n",
    "image_dataloader_test = DataLoader(image_dataset_test, batch_size=32, \n",
    "                                   shuffle=False, num_workers=4)"
   ]
  },
  {
   "cell_type": "code",
   "execution_count": 6,
   "metadata": {
    "collapsed": true
   },
   "outputs": [],
   "source": [
    "mlp = nn.Sequential(\n",
    "    nn.ReLU(inplace=True),\n",
    "    nn.Linear(1000, 10),\n",
    ")\n",
    "\n",
    "model = mlp.to(device)\n",
    "optimizer = torch.optim.RMSprop(model.parameters(), lr=1e-4)\n",
    "loss_fn = nn.CrossEntropyLoss().to(device)"
   ]
  },
  {
   "cell_type": "code",
   "execution_count": 7,
   "metadata": {},
   "outputs": [
    {
     "data": {
      "image/png": "[encoded data removed]",
      "text/plain": [
       "<Figure size 864x576 with 2 Axes>"
      ]
     },
     "metadata": {
      "needs_background": "light"
     },
     "output_type": "display_data"
    },
    {
     "name": "stderr",
     "output_type": "stream",
     "text": [
      "Process Process-59:\n",
      "Process Process-60:\n",
      "Process Process-57:\n",
      "Process Process-58:\n",
      "Traceback (most recent call last):\n",
      "  File \"/home/hlh0923/miniconda3/lib/python3.6/multiprocessing/process.py\", line 258, in _bootstrap\n",
      "    self.run()\n",
      "  File \"/home/hlh0923/miniconda3/lib/python3.6/multiprocessing/process.py\", line 93, in run\n",
      "    self._target(*self._args, **self._kwargs)\n",
      "Traceback (most recent call last):\n",
      "Traceback (most recent call last):\n",
      "  File \"/home/hlh0923/miniconda3/lib/python3.6/site-packages/torch/utils/data/dataloader.py\", line 106, in _worker_loop\n",
      "    samples = collate_fn([dataset[i] for i in batch_indices])\n",
      "  File \"/home/hlh0923/miniconda3/lib/python3.6/multiprocessing/process.py\", line 258, in _bootstrap\n",
      "    self.run()\n",
      "  File \"/home/hlh0923/miniconda3/lib/python3.6/multiprocessing/process.py\", line 258, in _bootstrap\n",
      "    self.run()\n",
      "Traceback (most recent call last):\n",
      "  File \"/home/hlh0923/miniconda3/lib/python3.6/site-packages/torch/utils/data/dataloader.py\", line 184, in default_collate\n",
      "    return {key: default_collate([d[key] for d in batch]) for key in batch[0]}\n",
      "  File \"/home/hlh0923/miniconda3/lib/python3.6/multiprocessing/process.py\", line 93, in run\n",
      "    self._target(*self._args, **self._kwargs)\n",
      "  File \"/home/hlh0923/miniconda3/lib/python3.6/multiprocessing/process.py\", line 93, in run\n",
      "    self._target(*self._args, **self._kwargs)\n",
      "  File \"/home/hlh0923/miniconda3/lib/python3.6/site-packages/torch/utils/data/dataloader.py\", line 184, in <dictcomp>\n",
      "    return {key: default_collate([d[key] for d in batch]) for key in batch[0]}\n",
      "  File \"/home/hlh0923/miniconda3/lib/python3.6/site-packages/torch/utils/data/dataloader.py\", line 96, in _worker_loop\n",
      "    r = index_queue.get(timeout=MANAGER_STATUS_CHECK_INTERVAL)\n",
      "  File \"/home/hlh0923/miniconda3/lib/python3.6/multiprocessing/process.py\", line 258, in _bootstrap\n",
      "    self.run()\n",
      "  File \"/home/hlh0923/miniconda3/lib/python3.6/site-packages/torch/utils/data/dataloader.py\", line 96, in _worker_loop\n",
      "    r = index_queue.get(timeout=MANAGER_STATUS_CHECK_INTERVAL)\n",
      "  File \"/home/hlh0923/miniconda3/lib/python3.6/site-packages/torch/utils/data/dataloader.py\", line 164, in default_collate\n",
      "    return torch.stack(batch, 0, out=out)\n",
      "  File \"/home/hlh0923/miniconda3/lib/python3.6/multiprocessing/queues.py\", line 104, in get\n",
      "    if not self._poll(timeout):\n",
      "  File \"/home/hlh0923/miniconda3/lib/python3.6/multiprocessing/process.py\", line 93, in run\n",
      "    self._target(*self._args, **self._kwargs)\n",
      "  File \"/home/hlh0923/miniconda3/lib/python3.6/multiprocessing/queues.py\", line 104, in get\n",
      "    if not self._poll(timeout):\n",
      "KeyboardInterrupt\n",
      "  File \"/home/hlh0923/miniconda3/lib/python3.6/multiprocessing/connection.py\", line 257, in poll\n",
      "    return self._poll(timeout)\n",
      "  File \"/home/hlh0923/miniconda3/lib/python3.6/multiprocessing/connection.py\", line 257, in poll\n",
      "    return self._poll(timeout)\n",
      "  File \"/home/hlh0923/miniconda3/lib/python3.6/site-packages/torch/utils/data/dataloader.py\", line 106, in _worker_loop\n",
      "    samples = collate_fn([dataset[i] for i in batch_indices])\n",
      "  File \"/home/hlh0923/miniconda3/lib/python3.6/multiprocessing/connection.py\", line 414, in _poll\n",
      "    r = wait([self], timeout)\n",
      "  File \"/home/hlh0923/miniconda3/lib/python3.6/multiprocessing/connection.py\", line 414, in _poll\n",
      "    r = wait([self], timeout)\n",
      "  File \"/home/hlh0923/miniconda3/lib/python3.6/site-packages/torch/utils/data/dataloader.py\", line 106, in <listcomp>\n",
      "    samples = collate_fn([dataset[i] for i in batch_indices])\n",
      "  File \"/home/hlh0923/miniconda3/lib/python3.6/multiprocessing/connection.py\", line 911, in wait\n",
      "    ready = selector.select(timeout)\n",
      "  File \"<ipython-input-4-f9df3d4d2e01>\", line 36, in __getitem__\n",
      "    image = self.transform(image)\n",
      "  File \"/home/hlh0923/miniconda3/lib/python3.6/multiprocessing/connection.py\", line 911, in wait\n",
      "    ready = selector.select(timeout)\n",
      "  File \"/home/hlh0923/miniconda3/lib/python3.6/selectors.py\", line 376, in select\n",
      "    fd_event_list = self._poll.poll(timeout)\n",
      "  File \"/home/hlh0923/miniconda3/lib/python3.6/site-packages/torchvision/transforms/transforms.py\", line 49, in __call__\n",
      "    img = t(img)\n",
      "  File \"/home/hlh0923/miniconda3/lib/python3.6/selectors.py\", line 376, in select\n",
      "    fd_event_list = self._poll.poll(timeout)\n",
      "KeyboardInterrupt\n",
      "  File \"/home/hlh0923/miniconda3/lib/python3.6/site-packages/torchvision/transforms/transforms.py\", line 175, in __call__\n",
      "    return F.resize(img, self.size, self.interpolation)\n",
      "KeyboardInterrupt\n",
      "  File \"/home/hlh0923/miniconda3/lib/python3.6/site-packages/torchvision/transforms/functional.py\", line 206, in resize\n",
      "    return img.resize(size[::-1], interpolation)\n",
      "  File \"/home/hlh0923/miniconda3/lib/python3.6/site-packages/PIL/Image.py\", line 1784, in resize\n",
      "    return self._new(self.im.resize(size, resample, box))\n",
      "KeyboardInterrupt\n"
     ]
    },
    {
     "ename": "KeyboardInterrupt",
     "evalue": "",
     "output_type": "error",
     "traceback": [
      "\u001b[0;31m---------------------------------------------------------------------------\u001b[0m",
      "\u001b[0;31mKeyboardInterrupt\u001b[0m                         Traceback (most recent call last)",
      "\u001b[0;32m<ipython-input-7-8921e9b3bbdb>\u001b[0m in \u001b[0;36m<module>\u001b[0;34m\u001b[0m\n\u001b[1;32m     18\u001b[0m         \u001b[0mloss\u001b[0m\u001b[0;34m.\u001b[0m\u001b[0mbackward\u001b[0m\u001b[0;34m(\u001b[0m\u001b[0;34m)\u001b[0m\u001b[0;34m\u001b[0m\u001b[0m\n\u001b[1;32m     19\u001b[0m         \u001b[0moptimizer\u001b[0m\u001b[0;34m.\u001b[0m\u001b[0mstep\u001b[0m\u001b[0;34m(\u001b[0m\u001b[0;34m)\u001b[0m\u001b[0;34m\u001b[0m\u001b[0m\n\u001b[0;32m---> 20\u001b[0;31m         \u001b[0mtrain_losses\u001b[0m\u001b[0;34m.\u001b[0m\u001b[0mappend\u001b[0m\u001b[0;34m(\u001b[0m\u001b[0mloss\u001b[0m\u001b[0;34m.\u001b[0m\u001b[0mitem\u001b[0m\u001b[0;34m(\u001b[0m\u001b[0;34m)\u001b[0m\u001b[0;34m)\u001b[0m\u001b[0;34m\u001b[0m\u001b[0m\n\u001b[0m\u001b[1;32m     21\u001b[0m \u001b[0;34m\u001b[0m\u001b[0m\n\u001b[1;32m     22\u001b[0m     \u001b[0mmodel\u001b[0m\u001b[0;34m.\u001b[0m\u001b[0meval\u001b[0m\u001b[0;34m(\u001b[0m\u001b[0;34m)\u001b[0m\u001b[0;34m\u001b[0m\u001b[0m\n",
      "\u001b[0;31mKeyboardInterrupt\u001b[0m: "
     ]
    }
   ],
   "source": [
    "from torch.autograd import Variable\n",
    "\n",
    "num_epochs = 50\n",
    "train_losses = []\n",
    "valid_accs = []\n",
    "valid_losses = []\n",
    "\n",
    "for epoch in range(num_epochs):\n",
    "    for t, sample in enumerate(image_dataloader_train):\n",
    "        model.train()\n",
    "        x_var = Variable(sample['image'].cuda())\n",
    "        y_var = Variable(sample['Label'].cuda().long())\n",
    "\n",
    "        x_var = resnet18(x_var)\n",
    "        scores = model(x_var)\n",
    "        loss = loss_fn(scores, y_var)\n",
    "        optimizer.zero_grad()\n",
    "        loss.backward()\n",
    "        optimizer.step()\n",
    "        train_losses.append(loss.item())\n",
    "        \n",
    "    model.eval()\n",
    "    num_correct = 0\n",
    "    num_samples = 0\n",
    "    for t, sample in enumerate(image_dataloader_val):\n",
    "        x_var = Variable(sample['image'].cuda())\n",
    "        y_var = Variable(sample['Label'].cuda().long())\n",
    "        \n",
    "        x_var = resnet18(x_var)\n",
    "        scores = model(x_var)\n",
    "\n",
    "        _, preds = scores.data.cpu().max(1)\n",
    "        y_var=y_var.cpu()\n",
    "        num_correct += (preds.numpy() == y_var.numpy()).sum()\n",
    "        num_samples += preds.size(0)\n",
    "\n",
    "    acc = float(num_correct) / num_samples   \n",
    "    valid_accs.append(acc)\n",
    "\n",
    "    clear_output(True)\n",
    "    plt.figure(figsize=(12,8))\n",
    "    plt.subplot(221)\n",
    "    plt.plot(train_losses)\n",
    "    plt.grid(True)\n",
    "    plt.subplot(222)\n",
    "    plt.plot(valid_accs)\n",
    "    plt.grid(True)\n",
    "    plt.show()"
   ]
  },
  {
   "cell_type": "code",
   "execution_count": null,
   "metadata": {
    "collapsed": true
   },
   "outputs": [],
   "source": []
  },
  {
   "cell_type": "code",
   "execution_count": null,
   "metadata": {
    "collapsed": true
   },
   "outputs": [],
   "source": []
  },
  {
   "cell_type": "code",
   "execution_count": null,
   "metadata": {
    "collapsed": true
   },
   "outputs": [],
   "source": []
  },
  {
   "cell_type": "code",
   "execution_count": 11,
   "metadata": {},
   "outputs": [
    {
     "data": {
      "image/png": "[encoded data removed]",
      "text/plain": [
       "<Figure size 864x576 with 2 Axes>"
      ]
     },
     "metadata": {
      "needs_background": "light"
     },
     "output_type": "display_data"
    }
   ],
   "source": [
    "clear_output(True)\n",
    "plt.figure(figsize=(12,8))\n",
    "plt.subplot(221)\n",
    "plt.plot(train_losses)\n",
    "plt.grid(True)\n",
    "plt.subplot(222)\n",
    "plt.plot(valid_accs)\n",
    "plt.grid(True)\n",
    "plt.show()"
   ]
  },
  {
   "cell_type": "code",
   "execution_count": 48,
   "metadata": {
    "collapsed": true
   },
   "outputs": [],
   "source": [
    "class ResidualBlock(nn.Module):\n",
    "    def __init__(self, in_channels, out_channels):\n",
    "        super(ResidualBlock, self).__init__()\n",
    "        self.relu = nn.ReLU()\n",
    "        \n",
    "        self.conv1 = nn.Conv2d(in_channels, out_channels, kernel_size=1, bias=False)\n",
    "        self.bn1 = nn.BatchNorm2d(out_channels)\n",
    "        self.conv2 = nn.Conv2d(out_channels, out_channels, kernel_size=3, padding=1, bias=False)\n",
    "        self.bn2 = nn.BatchNorm2d(out_channels)\n",
    "        self.conv3 = nn.Conv2d(in_channels, out_channels, kernel_size=1, bias=False)\n",
    "        self.bn3 = nn.BatchNorm2d(out_channels)\n",
    "        \n",
    "    def forward(self, x):\n",
    "        y = self.bn3(self.conv3(x))\n",
    "        z = self.relu(self.bn1(self.conv1(x)))\n",
    "        z = self.bn2(self.conv2(z))\n",
    "        return y+z\n",
    "\n",
    "class Model(nn.Module):\n",
    "    def __init__(self):\n",
    "        super(Model, self).__init__()\n",
    "        self.relu = nn.ReLU()\n",
    "        self.pool = nn.MaxPool2d(kernel_size=2, padding=1)\n",
    "        self.dropout = nn.Dropout()\n",
    "        \n",
    "#         self.conv1 = nn.Conv2d(3, 8, kernel_size=3, bias=False)\n",
    "#         self.bn1 = nn.BatchNorm2d(8)\n",
    "#         self.conv2 = nn.Conv2d(8, 16, kernel_size=3, bias=False)\n",
    "#         self.bn2 = nn.BatchNorm2d(16)\n",
    "#         self.conv3 = nn.Conv2d(16, 32, kernel_size=3, bias=False)\n",
    "#         self.bn3 = nn.BatchNorm2d(32)\n",
    "#         self.conv4 = nn.Conv2d(32, 64, kernel_size=3, bias=False)\n",
    "#         self.bn4 = nn.BatchNorm2d(64)\n",
    "        \n",
    "        self.res1 = ResidualBlock(3,8)\n",
    "        self.res2 = ResidualBlock(8,16)\n",
    "        self.res3 = ResidualBlock(16,32)\n",
    "        self.res4 = ResidualBlock(32,64)\n",
    "        self.linear = nn.Linear(1600, 10)\n",
    "        \n",
    "    def forward(self, x):\n",
    "        x = self.pool(self.res1(x))\n",
    "        x = self.pool(self.res2(x))\n",
    "        x = self.pool(self.res3(x))\n",
    "        x = self.pool(self.res4(x))\n",
    "        x = self.dropout(x)\n",
    "        x = x.view(x.size(0), -1)\n",
    "        x = self.linear(x)\n",
    "        return x\n",
    "    \n",
    "model = Model().to(device)\n",
    "optimizer = torch.optim.RMSprop(model.parameters(), lr=1e-4)\n",
    "loss_fn = nn.MultiMarginLoss().to(device)"
   ]
  },
  {
   "cell_type": "code",
   "execution_count": null,
   "metadata": {
    "collapsed": true
   },
   "outputs": [],
   "source": []
  },
  {
   "cell_type": "code",
   "execution_count": 49,
   "metadata": {
    "collapsed": true
   },
   "outputs": [],
   "source": [
    "# class Flatten(nn.Module):\n",
    "#     def forward(self, x):\n",
    "#         N, C, H, W = x.size() # read in N, C, H, W\n",
    "#         return x.view(N, -1)\n",
    "\n",
    "# fixed_model_base = nn.Sequential( \n",
    "#     # Layer 1\n",
    "#     nn.Conv2d(3, 8, kernel_size=3, bias=False),\n",
    "#     nn.BatchNorm2d(8),\n",
    "#     nn.ReLU(),\n",
    "#     nn.MaxPool2d(kernel_size=2, padding=1),\n",
    "#     # Layer 2\n",
    "#     nn.Conv2d(8, 16, kernel_size=3, bias=False),\n",
    "#     nn.BatchNorm2d(16),\n",
    "#     nn.ReLU(),\n",
    "#     nn.MaxPool2d(kernel_size=2, padding=1),\n",
    "#     # Layer 3\n",
    "#     nn.Conv2d(16, 32, kernel_size=3, bias=False),\n",
    "#     nn.BatchNorm2d(32),\n",
    "#     nn.ReLU(),\n",
    "#     nn.MaxPool2d(kernel_size=2, padding=1),\n",
    "#     # Layer 4\n",
    "#     nn.Conv2d(32, 64, kernel_size=3, bias=False),\n",
    "#     nn.BatchNorm2d(64),\n",
    "#     nn.ReLU(),\n",
    "#     nn.MaxPool2d(kernel_size=2, padding=1),\n",
    "#     nn.Dropout(),\n",
    "#     # Classification\n",
    "#     Flatten(),\n",
    "#     nn.Linear(1024, 10),\n",
    "#     )\n",
    "\n",
    "# model = fixed_model_base.to(device)\n",
    "# optimizer = torch.optim.RMSprop(model.parameters(), lr=1e-4)\n",
    "# loss_fn = nn.CrossEntropyLoss().to(device)"
   ]
  }
 ],
 "metadata": {
  "kernelspec": {
   "display_name": "Python 3",
   "language": "python",
   "name": "python3"
  },
  "language_info": {
   "codemirror_mode": {
    "name": "ipython",
    "version": 3
   },
   "file_extension": ".py",
   "mimetype": "text/x-python",
   "name": "python",
   "nbconvert_exporter": "python",
   "pygments_lexer": "ipython3",
   "version": "3.6.3"
  }
 },
 "nbformat": 4,
 "nbformat_minor": 2
}
