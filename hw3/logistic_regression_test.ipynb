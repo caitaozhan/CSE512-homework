{
 "cells": [
  {
   "cell_type": "markdown",
   "metadata": {},
   "source": [
    "## Logistic Regression with SGD"
   ]
  },
  {
   "cell_type": "markdown",
   "metadata": {},
   "source": [
    "To begin you first need to install all dependencies, using:\n",
    "\n",
    "    pip install -r requirements.txt"
   ]
  },
  {
   "cell_type": "code",
   "execution_count": 493,
   "metadata": {
    "collapsed": true
   },
   "outputs": [],
   "source": [
    "import numpy as np\n",
    "import matplotlib.pyplot as plt\n",
    "from matplotlib import rcParams\n",
    "\n",
    "from math import exp, log\n",
    "import os\n",
    "import pickle\n",
    "\n",
    "from skimage import io\n",
    "from skimage.color import rgb2gray\n",
    "from skimage.feature import hog\n",
    "\n",
    "from sklearn.metrics import accuracy_score\n",
    "from sklearn.metrics import precision_recall_curve\n",
    "from sklearn.metrics import roc_curve\n",
    "from copy import deepcopy\n",
    "import pandas as pd"
   ]
  },
  {
   "cell_type": "code",
   "execution_count": 2,
   "metadata": {
    "collapsed": true
   },
   "outputs": [],
   "source": [
    "%matplotlib inline"
   ]
  },
  {
   "cell_type": "markdown",
   "metadata": {},
   "source": [
    "### load the dataset"
   ]
  },
  {
   "cell_type": "code",
   "execution_count": 3,
   "metadata": {
    "collapsed": true
   },
   "outputs": [],
   "source": [
    "### set your image dir here\n",
    "IMAGE_DIR = \"./data/\""
   ]
  },
  {
   "cell_type": "code",
   "execution_count": 15,
   "metadata": {
    "collapsed": true
   },
   "outputs": [],
   "source": [
    "def load_dataset(subset=\"train\"):\n",
    "    \"\"\"\n",
    "    1. subset = \"train\", \"val\", \"test\"\n",
    "    2. About the dataset: in \"train\",\"val\" subset, the first half of images are images of hands, the rest half are images of not-hand. \n",
    "    3. extract features from HoG\n",
    "    \"\"\"\n",
    "    path = os.path.join(IMAGE_DIR, subset)\n",
    "    name_list = os.listdir(path)\n",
    "    print(\"Number of images in {}-set: {}\".format(subset, len(name_list)))\n",
    "    #HoG returns 324 features\n",
    "    X = np.zeros(shape=(len(name_list), 324))\n",
    "\n",
    "    if subset == \"train\" or subset == \"val\":\n",
    "        #Make sure that we have equal number of positive and negative class images\n",
    "        assert len(name_list)%2 == 0\n",
    "        count = len(name_list)//2\n",
    "        y = np.array(count*[1] + count*[0])\n",
    "        for idx_true in range(count):\n",
    "            img_name = os.path.join(path,str(idx_true)+\".png\")\n",
    "            img = io.imread(img_name)\n",
    "            img = rgb2gray(img)\n",
    "            vec = hog(img)\n",
    "            X[idx_true, :] = vec\n",
    "        \n",
    "        for idx in range(count):\n",
    "            idx_false = idx + count\n",
    "            img_name = os.path.join(path,str(idx_false)+\".png\")\n",
    "            img = io.imread(img_name)\n",
    "            img = rgb2gray(img)\n",
    "            vec = hog(img)\n",
    "            X[idx_false, :] = vec\n",
    "        return X, y        \n",
    "    else:\n",
    "        for idx in range(len(name_list)):\n",
    "            img_name = os.path.join(path, str(idx)+\".png\")\n",
    "            img = io.imread(img_name)\n",
    "            img = rgb2gray(img)\n",
    "            vec = hog(img)\n",
    "            X[idx, :] = vec\n",
    "        return X"
   ]
  },
  {
   "cell_type": "markdown",
   "metadata": {},
   "source": [
    "### load the data"
   ]
  },
  {
   "cell_type": "code",
   "execution_count": 23,
   "metadata": {},
   "outputs": [
    {
     "name": "stdout",
     "output_type": "stream",
     "text": [
      "Number of images in train-set: 8170\n"
     ]
    },
    {
     "name": "stderr",
     "output_type": "stream",
     "text": [
      "/anaconda3/lib/python3.6/site-packages/skimage/feature/_hog.py:119: skimage_deprecation: Default value of `block_norm`==`L1` is deprecated and will be changed to `L2-Hys` in v0.15\n",
      "  'be changed to `L2-Hys` in v0.15', skimage_deprecation)\n"
     ]
    },
    {
     "name": "stdout",
     "output_type": "stream",
     "text": [
      "Number of images in val-set: 2724\n",
      "Number of images in test-set: 5542\n"
     ]
    }
   ],
   "source": [
    "X_train, y_train = load_dataset(\"train\")\n",
    "X_val, y_val = load_dataset(\"val\")\n",
    "X_test = load_dataset(\"test\")"
   ]
  },
  {
   "cell_type": "markdown",
   "metadata": {},
   "source": [
    "### displaying images"
   ]
  },
  {
   "cell_type": "code",
   "execution_count": 24,
   "metadata": {
    "collapsed": true
   },
   "outputs": [],
   "source": [
    "def display(img_path):\n",
    "    \"\"\"\n",
    "    visualize the img\n",
    "    \"\"\"\n",
    "    img = io.imread(img_path)\n",
    "    print(img_path)\n",
    "    io.imshow(img)\n",
    "    io.show()"
   ]
  },
  {
   "cell_type": "code",
   "execution_count": 44,
   "metadata": {},
   "outputs": [
    {
     "name": "stdout",
     "output_type": "stream",
     "text": [
      "./data/train/129.png\n"
     ]
    },
    {
     "data": {
      "image/png": "[encoded data removed]",
      "text/plain": [
       "<matplotlib.figure.Figure at 0x1c17e5bb70>"
      ]
     },
     "metadata": {},
     "output_type": "display_data"
    }
   ],
   "source": [
    "display(IMAGE_DIR+\"train/129.png\")"
   ]
  },
  {
   "cell_type": "markdown",
   "metadata": {},
   "source": [
    "### Logistic regression"
   ]
  },
  {
   "cell_type": "markdown",
   "metadata": {},
   "source": [
    "#### Main function in the class\n",
    "1. \\__init\\__() which sets the hyper parameters\n",
    "2. sigmoid()\n",
    "3. __init_param(), initializes the parameters .\n",
    "4. fit(): train the data\n",
    "5. predict_proba(): predict the probability of the sample belonging to the positive class\n",
    "6. predict(): classify the sample\n",
    "\n",
    "\n",
    "Feel free to overlook the rest of the parts of the code, it's just for convenience.\n"
   ]
  },
  {
   "cell_type": "code",
   "execution_count": 638,
   "metadata": {},
   "outputs": [],
   "source": [
    "class LogisticRegression:\n",
    "    \"\"\"\n",
    "    Logistic Regression\n",
    "    \"\"\"\n",
    "    def __init__(self, eta0=0.1, eta1=1, m=16, max_epoch=1000, delta=0.0001):\n",
    "        \"\"\"\n",
    "        m is the batch_size\n",
    "        \"\"\"\n",
    "        self.__init = True # whether to initial the parameters\n",
    "        self.__eta0 = eta0\n",
    "        self.__eta1 = eta1\n",
    "        self.__delta = delta\n",
    "        self.__m = m\n",
    "        self.__max_epoch = max_epoch\n",
    "        \n",
    "    def sigmoid(self, x):\n",
    "        return 1.0 / (1 + exp(-x))\n",
    "    \n",
    "    def __init_param(self):\n",
    "        \"\"\"\n",
    "        Weights initialized using a normal distribution here: you can change the distribution.\n",
    "        \"\"\"\n",
    "        np.random.seed(100)\n",
    "        d = self.__dimension\n",
    "        self.__wt = np.random.randn(1, d)\n",
    "        self.__bias = np.random.randn()\n",
    "        return self.__wt, self.__bias\n",
    "\n",
    "\n",
    "    def visual_wt(self):\n",
    "        '''visualize the weights\n",
    "        '''\n",
    "        pd.DataFrame(self.__wt[0]).hist(bins=15)\n",
    "\n",
    "\n",
    "    def create_batch(self, n, m):\n",
    "        '''Create batches of size m or m+1\n",
    "        Parameters:\n",
    "            n (int): the size of data set\n",
    "            m (int): the size of the batch can be either m or m+1\n",
    "        Return:\n",
    "            (list): a list of batches, where each batch is a list\n",
    "        '''\n",
    "        permute = np.random.permutation(n)\n",
    "        num_m_1 = n%m            # this number of batches have size of m+1\n",
    "        num_m = n//m - num_m_1   # this number of batches have size of m\n",
    "        batches = []\n",
    "        index = 0\n",
    "        for _ in range(num_m):\n",
    "            batch = []\n",
    "            for _ in range(m):\n",
    "                batch.append(permute[index])\n",
    "                index += 1\n",
    "            batches.append(batch)\n",
    "        for _ in range(num_m_1):\n",
    "            batch = []\n",
    "            for _ in range(m+1):\n",
    "                batch.append(permute[index])\n",
    "                index += 1\n",
    "            batches.append(batch)\n",
    "        return batches\n",
    "\n",
    "\n",
    "    def loss_function(self, X_bar, y, thetaT):\n",
    "        '''The loss function that we want to optimize\n",
    "        Parameters:\n",
    "            X_bar (ndarray, n=2): the training dataset\n",
    "            thetaT (ndarray, n=1): the weights\n",
    "        Return:\n",
    "            (float)\n",
    "        '''\n",
    "        summation = 0\n",
    "        for Xi, yi in zip(X_bar, y):\n",
    "            summation += yi * thetaT @ Xi - log(1 + exp(thetaT @ Xi))\n",
    "        return -summation/len(X_bar)\n",
    "\n",
    "\n",
    "    def fit(self, X, y, X_val=None, y_val=None):\n",
    "        \"\"\"\n",
    "        Recommended input:\n",
    "        X: n x d array,\n",
    "        y: n x 1 array or list\n",
    "        \"\"\"\n",
    "        n, d = X.shape\n",
    "        self.__dimension = d\n",
    "\n",
    "        if self.__init:\n",
    "            self.__init_param()\n",
    "\n",
    "        ### write your code here ###\n",
    "        epoch_file = open('plot_data/epoch_eta.csv', 'w')\n",
    "        ones = np.array(np.ones(X.shape[0]))\n",
    "        ones = np.expand_dims(ones, axis=0)\n",
    "        X_bar = np.concatenate((X, ones.T), axis=1)         # X_bar.shape  = (n, d+1), i.e already transposed\n",
    "        thetaT = np.append(self.__wt[0], self.__bias)       # thetaT.shape = (d+1,)\n",
    "        loss_old = self.loss_function(X_bar, y, thetaT)\n",
    "        print(0, ',', loss_old, file=epoch_file)\n",
    "        for epoch in range(1, self.__max_epoch+1):\n",
    "            eta = self.__eta0/(self.__eta1 + epoch)         # eta decreases\n",
    "            batches = self.create_batch(n, self.__m)\n",
    "            new_thetaT = deepcopy(thetaT)\n",
    "            for batch in batches:                           # batch is a list of random index\n",
    "                derivative = np.zeros(len(thetaT))\n",
    "                for i in range(len(batch)):\n",
    "                    Xi = X_bar[batch[i]]\n",
    "                    yi = y[batch[i]]\n",
    "                    prob = self.sigmoid(new_thetaT @ Xi)\n",
    "                    derivative += (yi - prob) * Xi\n",
    "                derivative = -derivative/len(batch)          # take the average and times -1\n",
    "                new_thetaT = new_thetaT - eta*derivative     # update thetaT\n",
    "            \n",
    "            loss_new = self.loss_function(X_bar, y, new_thetaT)\n",
    "            #print(epoch, loss_old, loss_new, loss_new/loss_old)\n",
    "            print(epoch, ',', loss_new, file=epoch_file)\n",
    "            thetaT = deepcopy(new_thetaT)\n",
    "\n",
    "            if loss_new < loss_old and loss_new > (1 - self.__delta)*loss_old:   # terminate condition\n",
    "                print(self.__eta0, self.__eta1)\n",
    "                print('epoch = ', epoch)\n",
    "                print('loss  = ', loss_new)\n",
    "                self.__wt = thetaT[0:d]\n",
    "                self.__bias = thetaT[d]\n",
    "                break\n",
    "\n",
    "            loss_old = loss_new\n",
    "\n",
    "\n",
    "    def predict(self, X):\n",
    "        \"\"\"\n",
    "        Classify the sample\n",
    "        \"\"\"\n",
    "        ones = np.array(np.ones(X.shape[0]))\n",
    "        ones = np.expand_dims(ones, axis=0)\n",
    "        X_bar = np.concatenate((X, ones.T), axis=1)         # X_bar.shape  = (8170, 325), i.e already transposed\n",
    "        thetaT = np.append(self.__wt, self.__bias)       # thetaT.shape = (325,) # TODO, need to change dimensions here\n",
    "        y_pred = []\n",
    "        for Xi in X_bar:\n",
    "            if self.sigmoid(thetaT @ Xi) >= 0.5:\n",
    "                y_pred.append(1)\n",
    "            else:\n",
    "                y_pred.append(0)\n",
    "        return y_pred\n",
    "\n",
    "\n",
    "    def save_predicts(self, y_pred):\n",
    "        df_pred = pd.DataFrame(y_pred, columns=['Class'])\n",
    "        index = [i for i in range(0, len(df_pred))]\n",
    "        df_pred.insert(0, 'Id', index)\n",
    "        df_pred.to_csv('data/predTestClass.csv ', header=True, index=False)\n",
    "\n",
    "\n",
    "    def get_param(self):\n",
    "        \"\"\"\n",
    "        output:\n",
    "            parameters: wt(1*d array), b(scalar)\n",
    "        \"\"\"\n",
    "        return [self.__wt, self.__bias]\n",
    "    \n",
    "    def save_model(self, save_file):\n",
    "        \"\"\"\n",
    "        save model to .pkl file\n",
    "        \"\"\"\n",
    "        with open(save_file,\"wb\") as file:\n",
    "            pickle.dump([self.__wt, self.__bias], file)\n",
    "\n",
    "    def load_model(self, load_file):\n",
    "        \"\"\"\n",
    "        load model from .pkl file\n",
    "        \"\"\"\n",
    "        with open(load_file,\"rb\") as file:\n",
    "            param = pickle.load(file)\n",
    "        self.__wt = param[0]\n",
    "        self.__bias = param[1]\n",
    "        self.__init = False\n",
    "        return self.__wt, self.__bias\n"
   ]
  },
  {
   "cell_type": "code",
   "execution_count": 614,
   "metadata": {},
   "outputs": [
    {
     "name": "stdout",
     "output_type": "stream",
     "text": [
      "1 0.92199062195 0.674606636011 0.73168492168\n",
      "2 0.674606636011 0.6581818893 0.975652853331\n",
      "3 0.6581818893 0.646710144236 0.982570554963\n",
      "4 0.646710144236 0.637945753791 0.986447730063\n",
      "5 0.637945753791 0.630959978257 0.989049577503\n",
      "6 0.630959978257 0.625128439382 0.990757672316\n",
      "7 0.625128439382 0.620205426259 0.992124797381\n",
      "8 0.620205426259 0.615904319828 0.993065029345\n",
      "9 0.615904319828 0.612127419397 0.993867715634\n",
      "10 0.612127419397 0.60876560131 0.99450797664\n",
      "11 0.60876560131 0.605741940739 0.995033128408\n",
      "12 0.605741940739 0.602991642698 0.995459620911\n",
      "13 0.602991642698 0.60047534303 0.995826974224\n",
      "14 0.60047534303 0.598161302009 0.996146318001\n",
      "15 0.598161302009 0.596022167901 0.996423817287\n",
      "16 0.596022167901 0.594031834088 0.996660637942\n",
      "17 0.594031834088 0.592173762176 0.996872100441\n",
      "18 0.592173762176 0.590432887768 0.997060196652\n",
      "19 0.590432887768 0.588795613251 0.997226993023\n",
      "20 0.588795613251 0.587251988505 0.99737833518\n",
      "21 0.587251988505 0.585792734709 0.997515114764\n",
      "22 0.585792734709 0.58440772298 0.997635662501\n",
      "23 0.58440772298 0.583092610698 0.997749666491\n",
      "24 0.583092610698 0.58184022692 0.997852170041\n",
      "25 0.58184022692 0.580645516831 0.997946669836\n",
      "26 0.580645516831 0.579503139316 0.998032573262\n",
      "27 0.579503139316 0.578410227457 0.9981140536\n",
      "28 0.578410227457 0.577361572136 0.998187004187\n",
      "29 0.577361572136 0.576354856889 0.99825635218\n",
      "30 0.576354856889 0.575387237177 0.998321138965\n",
      "31 0.575387237177 0.574455385648 0.998380479321\n",
      "32 0.574455385648 0.573556889794 0.998435917085\n",
      "33 0.573556889794 0.572690178582 0.998488883619\n",
      "34 0.572690178582 0.571852806009 0.998537826202\n",
      "35 0.571852806009 0.571043199619 0.998584239893\n",
      "36 0.571043199619 0.570259860716 0.998628231799\n",
      "37 0.570259860716 0.569501020042 0.998669307229\n",
      "38 0.569501020042 0.568765367297 0.998708250347\n",
      "39 0.568765367297 0.5680515077 0.99874489616\n",
      "40 0.5680515077 0.567358450036 0.998779938693\n",
      "41 0.567358450036 0.566685034257 0.998813068213\n",
      "42 0.566685034257 0.56603021364 0.998844471661\n",
      "43 0.56603021364 0.565393252701 0.998874687386\n",
      "44 0.565393252701 0.564773011518 0.998902991538\n",
      "45 0.564773011518 0.564168969645 0.998930469656\n",
      "46 0.564168969645 0.563580099936 0.998956217479\n",
      "47 0.563580099936 0.563005780344 0.998980944161\n",
      "48 0.563005780344 0.562445514791 0.999004867139\n",
      "49 0.562445514791 0.56189855507 0.999027532966\n",
      "50 0.56189855507 0.561364206156 0.999049029564\n",
      "51 0.561364206156 0.560842226135 0.999070157993\n",
      "52 0.560842226135 0.560331883525 0.999090042464\n",
      "53 0.560331883525 0.55983286285 0.999109419454\n",
      "54 0.55983286285 0.559344527051 0.999127711444\n",
      "55 0.559344527051 0.558866538839 0.999145449381\n",
      "56 0.558866538839 0.558398515026 0.999162548156\n",
      "57 0.558398515026 0.557940065815 0.999178992783\n",
      "58 0.557940065815 0.557490845474 0.999194859147\n",
      "59 0.557490845474 0.557050535373 0.999210193128\n",
      "60 0.557050535373 0.556618830077 0.999225015921\n",
      "61 0.556618830077 0.55619540946 0.99923929879\n",
      "62 0.55619540946 0.555779992116 0.999253109003\n",
      "63 0.555779992116 0.555372204833 0.999266279303\n",
      "64 0.555372204833 0.55497175832 0.99927895831\n",
      "65 0.55497175832 0.554578628422 0.999291621796\n",
      "66 0.554578628422 0.554192457218 0.999303667353\n",
      "67 0.554192457218 0.553813042149 0.999315373091\n",
      "68 0.553813042149 0.553440158328 0.999326697293\n",
      "69 0.553440158328 0.553073600401 0.999337673782\n",
      "70 0.553073600401 0.552713081835 0.999348154449\n",
      "71 0.552713081835 0.552358462651 0.999358402766\n",
      "72 0.552358462651 0.552009684585 0.999368565724\n",
      "73 0.552009684585 0.551666497735 0.999378295599\n",
      "74 0.551666497735 0.551328735647 0.999387742253\n",
      "75 0.551328735647 0.550996318444 0.999397061714\n",
      "76 0.550996318444 0.55066885472 0.999405688\n",
      "77 0.55066885472 0.550346441069 0.999414505381\n",
      "78 0.550346441069 0.550028897743 0.999423011938\n",
      "79 0.550028897743 0.549716015065 0.999431152292\n",
      "80 0.549716015065 0.549407761202 0.999439248895\n",
      "81 0.549407761202 0.54910389667 0.999446923481\n",
      "82 0.54910389667 0.548804397954 0.99945456822\n",
      "83 0.548804397954 0.548509194253 0.999462096692\n",
      "84 0.548509194253 0.54821806639 0.999469237953\n",
      "85 0.54821806639 0.547930908841 0.99947619831\n",
      "86 0.547930908841 0.547647637192 0.999483015752\n",
      "87 0.547647637192 0.547368154068 0.999489666157\n",
      "88 0.547368154068 0.547092464921 0.999496336889\n",
      "89 0.547092464921 0.546820343622 0.999502604558\n",
      "90 0.546820343622 0.546551795458 0.999508891416\n",
      "91 0.546551795458 0.546286717314 0.999514999043\n",
      "92 0.546286717314 0.546024970787 0.999520862363\n",
      "93 0.546024970787 0.545766575452 0.999526770113\n",
      "94 0.545766575452 0.54551136331 0.999532378578\n",
      "95 0.54551136331 0.545259311418 0.999537952994\n",
      "96 0.545259311418 0.545010359042 0.999543423889\n",
      "97 0.545010359042 0.544764353568 0.999548622388\n",
      "98 0.544764353568 0.544521298645 0.999553834753\n",
      "99 0.544521298645 0.544281084325 0.999558852297\n",
      "100 0.544281084325 0.544043679476 0.999563819401\n",
      "101 0.544043679476 0.543809048567 0.999568727809\n",
      "102 0.543809048567 0.543577130884 0.999573531034\n",
      "103 0.543577130884 0.543347816035 0.999578137424\n",
      "104 0.543347816035 0.54312104585 0.999582642686\n",
      "105 0.54312104585 0.542896889965 0.999587281902\n",
      "106 0.542896889965 0.542675193114 0.999591640963\n",
      "107 0.542675193114 0.542455910447 0.999595922811\n",
      "108 0.542455910447 0.542239034185 0.999600195595\n",
      "109 0.542239034185 0.542024492309 0.999604340775\n",
      "110 0.542024492309 0.541812215869 0.99960836375\n",
      "111 0.541812215869 0.541602188787 0.999612361855\n",
      "112 0.541602188787 0.541394299027 0.999616157829\n",
      "113 0.541394299027 0.541188547808 0.999619960499\n",
      "114 0.541188547808 0.540984984347 0.999623858522\n",
      "115 0.540984984347 0.54078344689 0.999627462013\n",
      "116 0.54078344689 0.540583998608 0.999631186415\n",
      "117 0.540583998608 0.540386523442 0.99963470031\n",
      "118 0.540386523442 0.540190982659 0.999638146449\n",
      "119 0.540190982659 0.539997377905 0.999641599434\n",
      "120 0.539997377905 0.539805644862 0.999644937085\n",
      "121 0.539805644862 0.539615773052 0.999648258939\n",
      "122 0.539615773052 0.539427735597 0.999651534546\n",
      "123 0.539427735597 0.539241482281 0.999654720543\n",
      "124 0.539241482281 0.539057002075 0.999657889439\n",
      "125 0.539057002075 0.538874245091 0.999660969094\n",
      "126 0.538874245091 0.538693205263 0.999664040674\n",
      "127 0.538693205263 0.538513833231 0.999667023771\n",
      "128 0.538513833231 0.538336066777 0.99966989436\n",
      "129 0.538336066777 0.538159959314 0.999672867055\n",
      "130 0.538159959314 0.5379854406 0.999675712192\n",
      "131 0.5379854406 0.537812448952 0.999678445484\n",
      "132 0.537812448952 0.53764102059 0.999681248803\n",
      "133 0.53764102059 0.53747108686 0.999683927149\n",
      "134 0.53747108686 0.537302646009 0.999686604815\n",
      "135 0.537302646009 0.53713565046 0.999689196489\n",
      "136 0.53713565046 0.536970093378 0.999691777893\n",
      "137 0.536970093378 0.536805954078 0.999694323199\n",
      "138 0.536805954078 0.536643192882 0.999696796964\n",
      "139 0.536643192882 0.536481799322 0.999699253504\n",
      "140 0.536481799322 0.536321726127 0.999701624182\n",
      "141 0.536321726127 0.536163052539 0.999704144771\n",
      "142 0.536163052539 0.536005637144 0.999706403873\n",
      "143 0.536005637144 0.535849550849 0.999708797288\n",
      "144 0.535849550849 0.535694727652 0.999711069654\n",
      "145 0.535694727652 0.535541115599 0.999713247031\n",
      "146 0.535541115599 0.535388737811 0.999715469488\n",
      "147 0.535388737811 0.535237616708 0.999717735746\n",
      "148 0.535237616708 0.535087697561 0.999719901699\n",
      "149 0.535087697561 0.534938920158 0.999721956972\n",
      "150 0.534938920158 0.534791317746 0.999724076141\n",
      "151 0.534791317746 0.534644852526 0.999726126406\n",
      "152 0.534644852526 0.534499495607 0.999728124346\n",
      "153 0.534499495607 0.534355266598 0.999730160626\n",
      "154 0.534355266598 0.534212110369 0.99973209541\n",
      "155 0.534212110369 0.53407008659 0.999734143466\n",
      "156 0.53407008659 0.533929115863 0.999736044519\n",
      "157 0.533929115863 0.533789178308 0.999737909863\n",
      "158 0.533789178308 0.533650272244 0.999739773549\n",
      "159 0.533650272244 0.53351240637 0.99974165501\n",
      "160 0.53351240637 0.533375556574 0.999743492759\n",
      "161 0.533375556574 0.533239680251 0.999745252063\n",
      "162 0.533239680251 0.533104780233 0.999747018042\n",
      "163 0.533104780233 0.532970857897 0.999748787966\n",
      "164 0.532970857897 0.532837876813 0.999750490891\n",
      "165 0.532837876813 0.532705872887 0.999752262495\n",
      "166 0.532705872887 0.532574761435 0.999753876465\n",
      "167 0.532574761435 0.532444581635 0.99975556521\n",
      "168 0.532444581635 0.532315325866 0.999757240897\n",
      "169 0.532315325866 0.532186972184 0.999758876599\n"
     ]
    },
    {
     "ename": "KeyboardInterrupt",
     "evalue": "",
     "output_type": "error",
     "traceback": [
      "\u001b[0;31m---------------------------------------------------------------------------\u001b[0m",
      "\u001b[0;31mKeyboardInterrupt\u001b[0m                         Traceback (most recent call last)",
      "\u001b[0;32m<ipython-input-614-4cf8f8e28929>\u001b[0m in \u001b[0;36m<module>\u001b[0;34m()\u001b[0m\n\u001b[1;32m      1\u001b[0m \u001b[0mlr\u001b[0m \u001b[0;34m=\u001b[0m \u001b[0mLogisticRegression\u001b[0m\u001b[0;34m(\u001b[0m\u001b[0;34m)\u001b[0m\u001b[0;34m\u001b[0m\u001b[0m\n\u001b[0;32m----> 2\u001b[0;31m \u001b[0mlr\u001b[0m\u001b[0;34m.\u001b[0m\u001b[0mfit\u001b[0m\u001b[0;34m(\u001b[0m\u001b[0mX_train\u001b[0m\u001b[0;34m,\u001b[0m\u001b[0my_train\u001b[0m\u001b[0;34m)\u001b[0m\u001b[0;34m\u001b[0m\u001b[0m\n\u001b[0m",
      "\u001b[0;32m<ipython-input-613-918d32b443a8>\u001b[0m in \u001b[0;36mfit\u001b[0;34m(self, X, y, X_val, y_val)\u001b[0m\n\u001b[1;32m    110\u001b[0m                 \u001b[0mnew_thetaT\u001b[0m \u001b[0;34m=\u001b[0m \u001b[0mnew_thetaT\u001b[0m \u001b[0;34m-\u001b[0m \u001b[0meta\u001b[0m\u001b[0;34m*\u001b[0m\u001b[0mderivative\u001b[0m     \u001b[0;31m# update thetaT\u001b[0m\u001b[0;34m\u001b[0m\u001b[0m\n\u001b[1;32m    111\u001b[0m \u001b[0;34m\u001b[0m\u001b[0m\n\u001b[0;32m--> 112\u001b[0;31m             \u001b[0mloss_new\u001b[0m \u001b[0;34m=\u001b[0m \u001b[0mself\u001b[0m\u001b[0;34m.\u001b[0m\u001b[0mloss_function\u001b[0m\u001b[0;34m(\u001b[0m\u001b[0mX_bar\u001b[0m\u001b[0;34m,\u001b[0m \u001b[0my\u001b[0m\u001b[0;34m,\u001b[0m \u001b[0mnew_thetaT\u001b[0m\u001b[0;34m)\u001b[0m\u001b[0;34m\u001b[0m\u001b[0m\n\u001b[0m\u001b[1;32m    113\u001b[0m             \u001b[0mprint\u001b[0m\u001b[0;34m(\u001b[0m\u001b[0mepoch\u001b[0m\u001b[0;34m,\u001b[0m \u001b[0mloss_old\u001b[0m\u001b[0;34m,\u001b[0m \u001b[0mloss_new\u001b[0m\u001b[0;34m,\u001b[0m \u001b[0mloss_new\u001b[0m\u001b[0;34m/\u001b[0m\u001b[0mloss_old\u001b[0m\u001b[0;34m)\u001b[0m\u001b[0;34m\u001b[0m\u001b[0m\n\u001b[1;32m    114\u001b[0m             \u001b[0;31m#print(epoch, ',', loss_new, file=epoch_file)\u001b[0m\u001b[0;34m\u001b[0m\u001b[0;34m\u001b[0m\u001b[0m\n",
      "\u001b[0;32m<ipython-input-613-918d32b443a8>\u001b[0m in \u001b[0;36mloss_function\u001b[0;34m(self, X_bar, y, thetaT)\u001b[0m\n\u001b[1;32m     72\u001b[0m         \u001b[0msummation\u001b[0m \u001b[0;34m=\u001b[0m \u001b[0;36m0\u001b[0m\u001b[0;34m\u001b[0m\u001b[0m\n\u001b[1;32m     73\u001b[0m         \u001b[0;32mfor\u001b[0m \u001b[0mXi\u001b[0m\u001b[0;34m,\u001b[0m \u001b[0myi\u001b[0m \u001b[0;32min\u001b[0m \u001b[0mzip\u001b[0m\u001b[0;34m(\u001b[0m\u001b[0mX_bar\u001b[0m\u001b[0;34m,\u001b[0m \u001b[0my\u001b[0m\u001b[0;34m)\u001b[0m\u001b[0;34m:\u001b[0m\u001b[0;34m\u001b[0m\u001b[0m\n\u001b[0;32m---> 74\u001b[0;31m             \u001b[0msummation\u001b[0m \u001b[0;34m+=\u001b[0m \u001b[0myi\u001b[0m \u001b[0;34m*\u001b[0m \u001b[0mthetaT\u001b[0m \u001b[0;34m@\u001b[0m \u001b[0mXi\u001b[0m \u001b[0;34m-\u001b[0m \u001b[0mlog\u001b[0m\u001b[0;34m(\u001b[0m\u001b[0;36m1\u001b[0m \u001b[0;34m+\u001b[0m \u001b[0mexp\u001b[0m\u001b[0;34m(\u001b[0m\u001b[0mthetaT\u001b[0m \u001b[0;34m@\u001b[0m \u001b[0mXi\u001b[0m\u001b[0;34m)\u001b[0m\u001b[0;34m)\u001b[0m\u001b[0;34m\u001b[0m\u001b[0m\n\u001b[0m\u001b[1;32m     75\u001b[0m         \u001b[0;32mreturn\u001b[0m \u001b[0;34m-\u001b[0m\u001b[0msummation\u001b[0m\u001b[0;34m/\u001b[0m\u001b[0mlen\u001b[0m\u001b[0;34m(\u001b[0m\u001b[0mX_bar\u001b[0m\u001b[0;34m)\u001b[0m\u001b[0;34m\u001b[0m\u001b[0m\n\u001b[1;32m     76\u001b[0m \u001b[0;34m\u001b[0m\u001b[0m\n",
      "\u001b[0;31mKeyboardInterrupt\u001b[0m: "
     ]
    }
   ],
   "source": [
    "lr = LogisticRegression()\n",
    "lr.fit(X_train,y_train)"
   ]
  },
  {
   "cell_type": "code",
   "execution_count": 446,
   "metadata": {
    "collapsed": true
   },
   "outputs": [],
   "source": [
    "y_pred = lr.predict(X_test)\n",
    "lr.save_predicts(y_pred)"
   ]
  },
  {
   "cell_type": "code",
   "execution_count": 447,
   "metadata": {
    "scrolled": true
   },
   "outputs": [],
   "source": [
    "lr.save_predicts(y_pred)"
   ]
  },
  {
   "cell_type": "code",
   "execution_count": 373,
   "metadata": {},
   "outputs": [],
   "source": [
    "save_predicts(y_pred)"
   ]
  },
  {
   "cell_type": "code",
   "execution_count": 246,
   "metadata": {},
   "outputs": [
    {
     "data": {
      "text/plain": [
       "(17, 325)"
      ]
     },
     "execution_count": 246,
     "metadata": {},
     "output_type": "execute_result"
    }
   ],
   "source": [
    "X_batch.shape"
   ]
  },
  {
   "cell_type": "code",
   "execution_count": 401,
   "metadata": {},
   "outputs": [
    {
     "data": {
      "text/plain": [
       "array([2, 8, 4, 9, 1, 6, 7, 3, 0, 5])"
      ]
     },
     "execution_count": 401,
     "metadata": {},
     "output_type": "execute_result"
    }
   ],
   "source": [
    "np.random.seed(0)\n",
    "np.random.permutation(10)"
   ]
  },
  {
   "cell_type": "code",
   "execution_count": null,
   "metadata": {
    "collapsed": true
   },
   "outputs": [],
   "source": []
  },
  {
   "cell_type": "markdown",
   "metadata": {},
   "source": [
    "## Question 2.3"
   ]
  },
  {
   "cell_type": "markdown",
   "metadata": {
    "scrolled": true
   },
   "source": [
    "### 1. Baseline Model"
   ]
  },
  {
   "cell_type": "code",
   "execution_count": 591,
   "metadata": {
    "scrolled": true
   },
   "outputs": [
    {
     "name": "stdout",
     "output_type": "stream",
     "text": [
      "1 0.92199062195 0.674606636011 0.73168492168\n",
      "2 0.674606636011 0.6581818893 0.975652853331\n",
      "3 0.6581818893 0.646710144236 0.982570554963\n",
      "4 0.646710144236 0.637945753791 0.986447730063\n",
      "5 0.637945753791 0.630959978257 0.989049577503\n",
      "6 0.630959978257 0.625128439382 0.990757672316\n",
      "7 0.625128439382 0.620205426259 0.992124797381\n",
      "8 0.620205426259 0.615904319828 0.993065029345\n",
      "9 0.615904319828 0.612127419397 0.993867715634\n",
      "10 0.612127419397 0.60876560131 0.99450797664\n",
      "11 0.60876560131 0.605741940739 0.995033128408\n",
      "12 0.605741940739 0.602991642698 0.995459620911\n",
      "13 0.602991642698 0.60047534303 0.995826974224\n",
      "14 0.60047534303 0.598161302009 0.996146318001\n",
      "15 0.598161302009 0.596022167901 0.996423817287\n",
      "16 0.596022167901 0.594031834088 0.996660637942\n",
      "17 0.594031834088 0.592173762176 0.996872100441\n",
      "18 0.592173762176 0.590432887768 0.997060196652\n",
      "19 0.590432887768 0.588795613251 0.997226993023\n",
      "20 0.588795613251 0.587251988505 0.99737833518\n",
      "21 0.587251988505 0.585792734709 0.997515114764\n",
      "22 0.585792734709 0.58440772298 0.997635662501\n",
      "23 0.58440772298 0.583092610698 0.997749666491\n",
      "24 0.583092610698 0.58184022692 0.997852170041\n",
      "25 0.58184022692 0.580645516831 0.997946669836\n",
      "26 0.580645516831 0.579503139316 0.998032573262\n",
      "27 0.579503139316 0.578410227457 0.9981140536\n",
      "28 0.578410227457 0.577361572136 0.998187004187\n",
      "29 0.577361572136 0.576354856889 0.99825635218\n",
      "30 0.576354856889 0.575387237177 0.998321138965\n",
      "31 0.575387237177 0.574455385648 0.998380479321\n",
      "32 0.574455385648 0.573556889794 0.998435917085\n",
      "33 0.573556889794 0.572690178582 0.998488883619\n",
      "34 0.572690178582 0.571852806009 0.998537826202\n",
      "35 0.571852806009 0.571043199619 0.998584239893\n",
      "36 0.571043199619 0.570259860716 0.998628231799\n",
      "37 0.570259860716 0.569501020042 0.998669307229\n",
      "38 0.569501020042 0.568765367297 0.998708250347\n",
      "39 0.568765367297 0.5680515077 0.99874489616\n",
      "40 0.5680515077 0.567358450036 0.998779938693\n",
      "41 0.567358450036 0.566685034257 0.998813068213\n",
      "42 0.566685034257 0.56603021364 0.998844471661\n",
      "43 0.56603021364 0.565393252701 0.998874687386\n",
      "44 0.565393252701 0.564773011518 0.998902991538\n",
      "45 0.564773011518 0.564168969645 0.998930469656\n",
      "46 0.564168969645 0.563580099936 0.998956217479\n",
      "47 0.563580099936 0.563005780344 0.998980944161\n",
      "48 0.563005780344 0.562445514791 0.999004867139\n",
      "49 0.562445514791 0.56189855507 0.999027532966\n",
      "50 0.56189855507 0.561364206156 0.999049029564\n",
      "51 0.561364206156 0.560842226135 0.999070157993\n",
      "52 0.560842226135 0.560331883525 0.999090042464\n",
      "53 0.560331883525 0.55983286285 0.999109419454\n",
      "54 0.55983286285 0.559344527051 0.999127711444\n",
      "55 0.559344527051 0.558866538839 0.999145449381\n",
      "56 0.558866538839 0.558398515026 0.999162548156\n",
      "57 0.558398515026 0.557940065815 0.999178992783\n",
      "58 0.557940065815 0.557490845474 0.999194859147\n",
      "59 0.557490845474 0.557050535373 0.999210193128\n",
      "60 0.557050535373 0.556618830077 0.999225015921\n",
      "61 0.556618830077 0.55619540946 0.99923929879\n",
      "62 0.55619540946 0.555779992116 0.999253109003\n",
      "63 0.555779992116 0.555372204833 0.999266279303\n",
      "64 0.555372204833 0.55497175832 0.99927895831\n",
      "65 0.55497175832 0.554578628422 0.999291621796\n",
      "66 0.554578628422 0.554192457218 0.999303667353\n",
      "67 0.554192457218 0.553813042149 0.999315373091\n",
      "68 0.553813042149 0.553440158328 0.999326697293\n",
      "69 0.553440158328 0.553073600401 0.999337673782\n",
      "70 0.553073600401 0.552713081835 0.999348154449\n",
      "71 0.552713081835 0.552358462651 0.999358402766\n",
      "72 0.552358462651 0.552009684585 0.999368565724\n",
      "73 0.552009684585 0.551666497735 0.999378295599\n",
      "74 0.551666497735 0.551328735647 0.999387742253\n",
      "75 0.551328735647 0.550996318444 0.999397061714\n",
      "76 0.550996318444 0.55066885472 0.999405688\n",
      "77 0.55066885472 0.550346441069 0.999414505381\n",
      "78 0.550346441069 0.550028897743 0.999423011938\n",
      "79 0.550028897743 0.549716015065 0.999431152292\n",
      "80 0.549716015065 0.549407761202 0.999439248895\n",
      "81 0.549407761202 0.54910389667 0.999446923481\n",
      "82 0.54910389667 0.548804397954 0.99945456822\n",
      "83 0.548804397954 0.548509194253 0.999462096692\n",
      "84 0.548509194253 0.54821806639 0.999469237953\n",
      "85 0.54821806639 0.547930908841 0.99947619831\n",
      "86 0.547930908841 0.547647637192 0.999483015752\n",
      "87 0.547647637192 0.547368154068 0.999489666157\n",
      "88 0.547368154068 0.547092464921 0.999496336889\n",
      "89 0.547092464921 0.546820343622 0.999502604558\n",
      "90 0.546820343622 0.546551795458 0.999508891416\n",
      "91 0.546551795458 0.546286717314 0.999514999043\n",
      "92 0.546286717314 0.546024970787 0.999520862363\n",
      "93 0.546024970787 0.545766575452 0.999526770113\n",
      "94 0.545766575452 0.54551136331 0.999532378578\n",
      "95 0.54551136331 0.545259311418 0.999537952994\n",
      "96 0.545259311418 0.545010359042 0.999543423889\n",
      "97 0.545010359042 0.544764353568 0.999548622388\n",
      "98 0.544764353568 0.544521298645 0.999553834753\n",
      "99 0.544521298645 0.544281084325 0.999558852297\n",
      "100 0.544281084325 0.544043679476 0.999563819401\n",
      "101 0.544043679476 0.543809048567 0.999568727809\n",
      "102 0.543809048567 0.543577130884 0.999573531034\n",
      "103 0.543577130884 0.543347816035 0.999578137424\n",
      "104 0.543347816035 0.54312104585 0.999582642686\n",
      "105 0.54312104585 0.542896889965 0.999587281902\n",
      "106 0.542896889965 0.542675193114 0.999591640963\n",
      "107 0.542675193114 0.542455910447 0.999595922811\n",
      "108 0.542455910447 0.542239034185 0.999600195595\n",
      "109 0.542239034185 0.542024492309 0.999604340775\n",
      "110 0.542024492309 0.541812215869 0.99960836375\n",
      "111 0.541812215869 0.541602188787 0.999612361855\n",
      "112 0.541602188787 0.541394299027 0.999616157829\n",
      "113 0.541394299027 0.541188547808 0.999619960499\n",
      "114 0.541188547808 0.540984984347 0.999623858522\n",
      "115 0.540984984347 0.54078344689 0.999627462013\n",
      "116 0.54078344689 0.540583998608 0.999631186415\n",
      "117 0.540583998608 0.540386523442 0.99963470031\n",
      "118 0.540386523442 0.540190982659 0.999638146449\n",
      "119 0.540190982659 0.539997377905 0.999641599434\n",
      "120 0.539997377905 0.539805644862 0.999644937085\n",
      "121 0.539805644862 0.539615773052 0.999648258939\n",
      "122 0.539615773052 0.539427735597 0.999651534546\n",
      "123 0.539427735597 0.539241482281 0.999654720543\n",
      "124 0.539241482281 0.539057002075 0.999657889439\n",
      "125 0.539057002075 0.538874245091 0.999660969094\n",
      "126 0.538874245091 0.538693205263 0.999664040674\n",
      "127 0.538693205263 0.538513833231 0.999667023771\n",
      "128 0.538513833231 0.538336066777 0.99966989436\n",
      "129 0.538336066777 0.538159959314 0.999672867055\n",
      "130 0.538159959314 0.5379854406 0.999675712192\n",
      "131 0.5379854406 0.537812448952 0.999678445484\n",
      "132 0.537812448952 0.53764102059 0.999681248803\n",
      "133 0.53764102059 0.53747108686 0.999683927149\n",
      "134 0.53747108686 0.537302646009 0.999686604815\n",
      "135 0.537302646009 0.53713565046 0.999689196489\n",
      "136 0.53713565046 0.536970093378 0.999691777893\n",
      "137 0.536970093378 0.536805954078 0.999694323199\n",
      "138 0.536805954078 0.536643192882 0.999696796964\n",
      "139 0.536643192882 0.536481799322 0.999699253504\n",
      "140 0.536481799322 0.536321726127 0.999701624182\n",
      "141 0.536321726127 0.536163052539 0.999704144771\n",
      "142 0.536163052539 0.536005637144 0.999706403873\n",
      "143 0.536005637144 0.535849550849 0.999708797288\n",
      "144 0.535849550849 0.535694727652 0.999711069654\n",
      "145 0.535694727652 0.535541115599 0.999713247031\n",
      "146 0.535541115599 0.535388737811 0.999715469488\n",
      "147 0.535388737811 0.535237616708 0.999717735746\n",
      "148 0.535237616708 0.535087697561 0.999719901699\n",
      "149 0.535087697561 0.534938920158 0.999721956972\n",
      "150 0.534938920158 0.534791317746 0.999724076141\n",
      "151 0.534791317746 0.534644852526 0.999726126406\n",
      "152 0.534644852526 0.534499495607 0.999728124346\n",
      "153 0.534499495607 0.534355266598 0.999730160626\n",
      "154 0.534355266598 0.534212110369 0.99973209541\n",
      "155 0.534212110369 0.53407008659 0.999734143466\n",
      "156 0.53407008659 0.533929115863 0.999736044519\n",
      "157 0.533929115863 0.533789178308 0.999737909863\n",
      "158 0.533789178308 0.533650272244 0.999739773549\n",
      "159 0.533650272244 0.53351240637 0.99974165501\n",
      "160 0.53351240637 0.533375556574 0.999743492759\n",
      "161 0.533375556574 0.533239680251 0.999745252063\n",
      "162 0.533239680251 0.533104780233 0.999747018042\n",
      "163 0.533104780233 0.532970857897 0.999748787966\n",
      "164 0.532970857897 0.532837876813 0.999750490891\n",
      "165 0.532837876813 0.532705872887 0.999752262495\n",
      "166 0.532705872887 0.532574761435 0.999753876465\n",
      "167 0.532574761435 0.532444581635 0.99975556521\n",
      "168 0.532444581635 0.532315325866 0.999757240897\n",
      "169 0.532315325866 0.532186972184 0.999758876599\n",
      "170 0.532186972184 0.532059499596 0.999760474054\n",
      "171 0.532059499596 0.531932898579 0.999762054774\n"
     ]
    },
    {
     "name": "stdout",
     "output_type": "stream",
     "text": [
      "172 0.531932898579 0.531807153815 0.999763607846\n",
      "173 0.531807153815 0.531682236211 0.999765107327\n",
      "174 0.531682236211 0.531558147329 0.999766610818\n",
      "175 0.531558147329 0.531434906386 0.999768151529\n",
      "176 0.531434906386 0.531312482655 0.999769635511\n",
      "177 0.531312482655 0.531190861407 0.999771092809\n",
      "178 0.531190861407 0.531070066252 0.999772595572\n",
      "179 0.531070066252 0.530950067337 0.999774043157\n",
      "180 0.530950067337 0.530830813359 0.999775395116\n",
      "181 0.530830813359 0.530712326481 0.999776789751\n",
      "182 0.530712326481 0.530594590473 0.999778154752\n",
      "183 0.530594590473 0.530477644016 0.999779593575\n",
      "184 0.530477644016 0.530361439231 0.999780943105\n",
      "185 0.530361439231 0.530245975109 0.999782291635\n",
      "186 0.530245975109 0.530131227247 0.999783595035\n",
      "187 0.530131227247 0.530017174845 0.999784860057\n",
      "188 0.530017174845 0.52990387565 0.999786234861\n",
      "189 0.52990387565 0.529791251515 0.999787463085\n",
      "190 0.529791251515 0.529679327099 0.999788738648\n",
      "191 0.529679327099 0.529568070654 0.999789955092\n",
      "192 0.529568070654 0.529457496884 0.999791200081\n",
      "193 0.529457496884 0.529347596416 0.999792428159\n",
      "194 0.529347596416 0.529238361424 0.999793642225\n",
      "195 0.529238361424 0.529129796845 0.999794866383\n",
      "196 0.529129796845 0.529021875876 0.999796040652\n",
      "197 0.529021875876 0.52891457413 0.999797169547\n",
      "198 0.52891457413 0.528807920481 0.999798353735\n",
      "199 0.528807920481 0.528701876522 0.999799466015\n",
      "200 0.528701876522 0.528596483742 0.999800657452\n",
      "201 0.528596483742 0.52849169897 0.999801767935\n",
      "202 0.52849169897 0.52838750587 0.999802848181\n",
      "203 0.52838750587 0.528283928281 0.999803974189\n",
      "204 0.528283928281 0.528180947503 0.999805065474\n",
      "205 0.528180947503 0.528078530397 0.99980609466\n",
      "206 0.528078530397 0.527976691747 0.999807152452\n",
      "207 0.527976691747 0.527875450678 0.999808247086\n",
      "208 0.527875450678 0.52777476087 0.999809254611\n",
      "209 0.52777476087 0.527674635327 0.999810287361\n",
      "210 0.527674635327 0.527575069847 0.999811312742\n",
      "211 0.527575069847 0.527476065179 0.999812340132\n",
      "212 0.527476065179 0.527377604004 0.999813335276\n",
      "213 0.527377604004 0.527279665752 0.999814291976\n",
      "214 0.527279665752 0.527182304237 0.999815351281\n",
      "215 0.527182304237 0.527085452263 0.999816283716\n",
      "216 0.527085452263 0.526989119483 0.999817234986\n",
      "217 0.526989119483 0.52689331648 0.999818206866\n",
      "218 0.52689331648 0.526798010205 0.999819116561\n",
      "219 0.526798010205 0.526703207388 0.999820039532\n",
      "220 0.526703207388 0.526608925988 0.999820997103\n",
      "221 0.526608925988 0.526515117553 0.999821863188\n",
      "222 0.526515117553 0.526421804664 0.999822772631\n",
      "223 0.526421804664 0.52632900019 0.999823707009\n",
      "224 0.52632900019 0.526236668013 0.999824573267\n",
      "225 0.526236668013 0.526144814605 0.999825452285\n",
      "226 0.526144814605 0.526053458582 0.999826367152\n",
      "227 0.526053458582 0.525962555612 0.999827198227\n",
      "228 0.525962555612 0.52587212753 0.999828071255\n",
      "229 0.52587212753 0.525782155583 0.999828909078\n",
      "230 0.525782155583 0.525692622142 0.999829713809\n",
      "231 0.525692622142 0.525603558914 0.999830579269\n",
      "232 0.525603558914 0.525514945435 0.999831406243\n",
      "233 0.525514945435 0.525426773371 0.999832217779\n",
      "234 0.525426773371 0.525339038366 0.999833021442\n",
      "235 0.525339038366 0.525251733946 0.999833813188\n",
      "236 0.525251733946 0.525164881982 0.999834646974\n",
      "237 0.525164881982 0.525078450086 0.999835419505\n",
      "238 0.525078450086 0.524992438422 0.999836192735\n",
      "239 0.524992438422 0.524906845026 0.999836962612\n",
      "240 0.524906845026 0.524821676121 0.999837744726\n",
      "241 0.524821676121 0.524736910014 0.999838485888\n",
      "242 0.524736910014 0.524652569911 0.99983927164\n",
      "243 0.524652569911 0.524568616765 0.999839983351\n",
      "244 0.524568616765 0.524485071715 0.999840735706\n",
      "245 0.524485071715 0.52440191987 0.999841460034\n",
      "246 0.52440191987 0.524319171713 0.999842204703\n",
      "247 0.524319171713 0.52423680739 0.999842911861\n",
      "248 0.52423680739 0.524154825972 0.999843617585\n",
      "249 0.524154825972 0.524073234326 0.999844336747\n",
      "250 0.524073234326 0.523992036896 0.999845064726\n",
      "251 0.523992036896 0.523911195689 0.999845720542\n",
      "252 0.523911195689 0.523830743326 0.999846438932\n",
      "253 0.523830743326 0.523750667313 0.999847133805\n",
      "254 0.523750667313 0.523670972373 0.999847838016\n",
      "255 0.523670972373 0.52359163418 0.999848496103\n",
      "256 0.52359163418 0.52351265451 0.999849157884\n",
      "257 0.52351265451 0.523434019172 0.999849792862\n",
      "258 0.523434019172 0.523355747469 0.999850465006\n",
      "259 0.523355747469 0.523277827536 0.999851114784\n",
      "260 0.523277827536 0.523200249218 0.999851745452\n",
      "261 0.523200249218 0.523123025278 0.999852400796\n",
      "262 0.523123025278 0.523046140478 0.999853027307\n",
      "263 0.523046140478 0.522969603102 0.999853669934\n",
      "264 0.522969603102 0.522893409103 0.99985430511\n",
      "265 0.522893409103 0.522817559175 0.999854941893\n",
      "266 0.522817559175 0.522742032837 0.999855539784\n",
      "267 0.522742032837 0.522666833807 0.999856145048\n",
      "268 0.522666833807 0.522591949999 0.999856727454\n",
      "269 0.522591949999 0.52251740135 0.999857348263\n",
      "270 0.52251740135 0.522443178636 0.999857951689\n",
      "271 0.522443178636 0.522369266823 0.9998585266\n",
      "272 0.522369266823 0.522295683045 0.999859134558\n",
      "273 0.522295683045 0.522222421797 0.999859732235\n",
      "274 0.522222421797 0.52214947184 0.999860308646\n",
      "275 0.52214947184 0.522076835051 0.999860888897\n",
      "276 0.522076835051 0.522004491262 0.999861430762\n",
      "277 0.522004491262 0.521932452474 0.999861995846\n",
      "278 0.521932452474 0.521860729964 0.999862582773\n",
      "279 0.521860729964 0.521789295994 0.999863116794\n",
      "280 0.521789295994 0.521718166982 0.999863682501\n",
      "281 0.521718166982 0.52164732799 0.99986421981\n",
      "282 0.52164732799 0.521576782668 0.999864764337\n",
      "283 0.521576782668 0.521506528113 0.999865303522\n",
      "284 0.521506528113 0.521436563861 0.999865842041\n",
      "285 0.521436563861 0.521366879185 0.999866360204\n",
      "286 0.521366879185 0.521297481167 0.999866892162\n",
      "287 0.521297481167 0.521228364871 0.999867414866\n",
      "288 0.521228364871 0.521159534397 0.999867945648\n",
      "289 0.521159534397 0.521090975355 0.999868449031\n",
      "290 0.521090975355 0.52102270152 0.999868979049\n",
      "291 0.52102270152 0.520954700313 0.999869485136\n",
      "292 0.520954700313 0.520886972992 0.999869993839\n",
      "293 0.520886972992 0.520819496771 0.999870458997\n",
      "294 0.520819496771 0.520752286956 0.999870953726\n",
      "295 0.520752286956 0.520685358215 0.999871476817\n",
      "296 0.520685358215 0.520618700638 0.999871981081\n",
      "297 0.520618700638 0.520552289777 0.99987243858\n",
      "298 0.520552289777 0.520486131372 0.999872907283\n",
      "299 0.520486131372 0.52042025445 0.999873431936\n",
      "300 0.52042025445 0.520354619873 0.999873881586\n",
      "301 0.520354619873 0.52028924108 0.999874357234\n",
      "302 0.52028924108 0.520224130935 0.999874857792\n",
      "303 0.520224130935 0.520159251595 0.999875285792\n",
      "304 0.520159251595 0.520094637379 0.999875779936\n",
      "305 0.520094637379 0.520030263419 0.999876226449\n",
      "306 0.520030263419 0.51996613261 0.999876678699\n",
      "307 0.51996613261 0.519902240826 0.999877123181\n",
      "308 0.519902240826 0.519838607822 0.999877605828\n",
      "309 0.519838607822 0.519775196109 0.999878016539\n",
      "310 0.519775196109 0.51971203718 0.99987848799\n",
      "311 0.51971203718 0.519649102081 0.999878903903\n",
      "312 0.519649102081 0.519586402372 0.999879342215\n",
      "313 0.519586402372 0.519523936365 0.999879777442\n",
      "314 0.519523936365 0.519461708488 0.999880221347\n",
      "315 0.519461708488 0.519399704605 0.999880638202\n",
      "316 0.519399704605 0.519337933244 0.999881071628\n",
      "317 0.519337933244 0.519276394907 0.999881506178\n",
      "318 0.519276394907 0.519215072856 0.999881908648\n",
      "319 0.519215072856 0.519153982523 0.999882340988\n",
      "320 0.519153982523 0.519093112401 0.999882751314\n",
      "321 0.519093112401 0.519032460921 0.999883158766\n",
      "322 0.519032460921 0.518972029764 0.9998835696\n",
      "323 0.518972029764 0.51891182559 0.999883993414\n",
      "324 0.51891182559 0.518851835857 0.999884393205\n",
      "325 0.518851835857 0.518792054824 0.999884782074\n",
      "326 0.518792054824 0.518732481853 0.999885169846\n",
      "327 0.518732481853 0.518673133255 0.9998855892\n",
      "328 0.518673133255 0.518613992192 0.999885976237\n",
      "329 0.518613992192 0.518555066872 0.999886379231\n",
      "330 0.518555066872 0.518496336968 0.999886743169\n",
      "331 0.518496336968 0.518437813649 0.99988712877\n",
      "332 0.518437813649 0.518379503613 0.999887527424\n",
      "333 0.518379503613 0.518321400996 0.999887914903\n",
      "334 0.518321400996 0.518263509228 0.999888309132\n",
      "335 0.518263509228 0.518205809355 0.99988866692\n",
      "336 0.518205809355 0.518148304199 0.999889030274\n",
      "337 0.518148304199 0.518090998509 0.999889402918\n",
      "338 0.518090998509 0.518033876976 0.99988974614\n",
      "339 0.518033876976 0.517976969498 0.999890147188\n",
      "340 0.517976969498 0.517920253822 0.99989050541\n",
      "341 0.517920253822 0.517863741747 0.99989088653\n"
     ]
    },
    {
     "name": "stdout",
     "output_type": "stream",
     "text": [
      "342 0.517863741747 0.517807401513 0.999891206452\n",
      "343 0.517807401513 0.517751267323 0.999891592531\n",
      "344 0.517751267323 0.517695329715 0.999891960463\n",
      "345 0.517695329715 0.517639571064 0.999892294468\n",
      "346 0.517639571064 0.517584009759 0.999892664108\n",
      "347 0.517584009759 0.517528632025 0.999893007254\n",
      "348 0.517528632025 0.517473423628 0.99989332301\n",
      "349 0.517473423628 0.51741841191 0.999893691704\n",
      "350 0.51741841191 0.517363566537 0.999894001891\n",
      "351 0.517363566537 0.517308918973 0.999894372996\n",
      "352 0.517308918973 0.517254449695 0.999894706478\n",
      "353 0.517254449695 0.517200160615 0.999895043763\n",
      "354 0.517200160615 0.517146052926 0.999895383465\n",
      "355 0.517146052926 0.517092127538 0.999895725032\n",
      "356 0.517092127538 0.517038372881 0.999896044333\n",
      "357 0.517038372881 0.516984801999 0.999896388963\n",
      "358 0.516984801999 0.516931400813 0.99989670647\n",
      "359 0.516931400813 0.516878163376 0.999897012568\n",
      "360 0.516878163376 0.516825105688 0.999897349722\n",
      "361 0.516825105688 0.516772215658 0.999897663581\n",
      "362 0.516772215658 0.516719493208 0.999897977391\n",
      "363 0.516719493208 0.516666946256 0.999898306619\n",
      "364 0.516666946256 0.51661455845 0.999898604302\n",
      "365 0.51661455845 0.516562348274 0.999898937854\n",
      "366 0.516562348274 0.516510297926 0.999899237046\n",
      "367 0.516510297926 0.516458418031 0.999899556901\n",
      "368 0.516458418031 0.51640669928 0.999899858829\n",
      "369 0.51640669928 0.516355139283 0.999900156219\n",
      "0.1 1\n",
      "epoch =  369\n",
      "loss  =  0.516355139283\n"
     ]
    }
   ],
   "source": [
    "# default parameters, and np.random.seed(0)\n",
    "LR = LogisticRegression()\n",
    "LR.fit(X_train,y_train)"
   ]
  },
  {
   "cell_type": "markdown",
   "metadata": {},
   "source": [
    "(a) Number of epochs till termination = **369**"
   ]
  },
  {
   "cell_type": "code",
   "execution_count": 651,
   "metadata": {},
   "outputs": [
    {
     "data": {
      "image/png": "[encoded data removed]",
      "text/plain": [
       "<matplotlib.figure.Figure at 0x1030e8470>"
      ]
     },
     "metadata": {},
     "output_type": "display_data"
    }
   ],
   "source": [
    "plt.figure(figsize=(14, 9))\n",
    "rcParams['lines.linewidth'] = 5\n",
    "\n",
    "SMALL_SIZE = 30\n",
    "MEDIUM_SIZE = 30\n",
    "BIGGER_SIZE = 30\n",
    "#\n",
    "plt.rc('font', size=SMALL_SIZE)          # controls default text sizes\n",
    "plt.rc('axes', titlesize=SMALL_SIZE)     # fontsize of the axes title\n",
    "plt.rc('axes', labelsize=MEDIUM_SIZE)    # fontsize of the x and y labels\n",
    "plt.rc('xtick', labelsize=SMALL_SIZE)    # fontsize of the tick labels\n",
    "plt.rc('ytick', labelsize=SMALL_SIZE)    # fontsize of the tick labels\n",
    "plt.rc('legend', fontsize=SMALL_SIZE)    # legend fontsize\n",
    "plt.rc('figure', titlesize=BIGGER_SIZE)  # fontsize of the figure title\n",
    "\n",
    "df_train = pd.read_csv('plot_data/epoch.csv', header=None)\n",
    "near_optimal = np.array([0.516355139283 for i in range(len(df_train))])\n",
    "\n",
    "X_epoch = df_train[0].tolist()\n",
    "Y_train = df_train[1].tolist()\n",
    "\n",
    "plt.plot(X_epoch, Y_train, linestyle='-')\n",
    "plt.plot(X_epoch, near_optimal, linestyle='--', linewidth=2)\n",
    "\n",
    "plt.legend(['Training Set. Default Parameters.'], prop={'size':25})\n",
    "plt.xlabel('Epoch', fontsize=35)\n",
    "plt.ylabel('Loss', fontsize=35)\n",
    "#plt.xlim([-1, 400])\n",
    "plt.ylim([0.5, 1])\n",
    "#plt.xticks(np.arange(50, 450, 50))\n",
    "plt.yticks(np.arange(0.5, 1.01, 0.05))\n",
    "\n",
    "plt.savefig('plot/epoch.pdf')\n",
    "plt.show()"
   ]
  },
  {
   "cell_type": "markdown",
   "metadata": {},
   "source": [
    "(c) Final value of L($\\theta$) after optimization = **0.516355139283**"
   ]
  },
  {
   "cell_type": "markdown",
   "metadata": {},
   "source": [
    "### 2. Experimenting with ($\\eta_0$,$\\eta_1$)"
   ]
  },
  {
   "cell_type": "code",
   "execution_count": 636,
   "metadata": {},
   "outputs": [],
   "source": [
    "eta0s = [10, 50, 100, 200, 300, 400, 500, 600, 800, 1000]\n",
    "eta1 = 1"
   ]
  },
  {
   "cell_type": "code",
   "execution_count": 637,
   "metadata": {},
   "outputs": [
    {
     "name": "stdout",
     "output_type": "stream",
     "text": [
      "10 1\n",
      "epoch =  85\n",
      "loss  =  0.265782946135\n",
      "\n",
      "50 1\n",
      "epoch =  86\n",
      "loss  =  0.246571571943\n",
      "\n",
      "100 1\n",
      "epoch =  131\n",
      "loss  =  0.239863153177\n",
      "\n",
      "200 1\n",
      "epoch =  110\n",
      "loss  =  0.234951718894\n",
      "\n",
      "300 1\n",
      "epoch =  159\n",
      "loss  =  0.231771484563\n",
      "\n",
      "400 1\n",
      "epoch =  165\n",
      "loss  =  0.230521029744\n",
      "\n",
      "500 1\n",
      "epoch =  197\n",
      "loss  =  0.229384054432\n",
      "\n",
      "600 1\n",
      "epoch =  125\n",
      "loss  =  0.230536853473\n",
      "\n",
      "800 1\n",
      "epoch =  124\n",
      "loss  =  0.232439065482\n",
      "\n",
      "1000 1\n",
      "epoch =  109\n",
      "loss  =  0.236626362958\n",
      "\n"
     ]
    }
   ],
   "source": [
    "for eta0 in eta0s:\n",
    "    LR = LogisticRegression(eta0=eta0)\n",
    "    LR.fit(X_train,y_train)\n",
    "    print()"
   ]
  },
  {
   "cell_type": "markdown",
   "metadata": {},
   "source": [
    "(a) Best value for, $\\eta_0$ = **500**, $\\eta_1$ = **1**\n",
    "\n",
    "Number of epochs for training = **197**\n",
    "\n",
    "Final value of L($\\theta$) = **0.229384054432**"
   ]
  },
  {
   "cell_type": "code",
   "execution_count": 639,
   "metadata": {},
   "outputs": [
    {
     "name": "stdout",
     "output_type": "stream",
     "text": [
      "500 1\n",
      "epoch =  197\n",
      "loss  =  0.229384054432\n"
     ]
    }
   ],
   "source": [
    "LR = LogisticRegression(eta0=500)\n",
    "LR.fit(X_train,y_train)"
   ]
  },
  {
   "cell_type": "code",
   "execution_count": 650,
   "metadata": {},
   "outputs": [
    {
     "data": {
      "image/png": "[encoded data removed]",
      "text/plain": [
       "<matplotlib.figure.Figure at 0x1c2f904c18>"
      ]
     },
     "metadata": {},
     "output_type": "display_data"
    }
   ],
   "source": [
    "# (b) For best (eta_0, eta_1) plot L(theta) vs num_epochs\n",
    "plt.figure(figsize=(14, 9))\n",
    "rcParams['lines.linewidth'] = 5\n",
    "\n",
    "SMALL_SIZE = 30\n",
    "MEDIUM_SIZE = 30\n",
    "BIGGER_SIZE = 30\n",
    "#\n",
    "plt.rc('font', size=SMALL_SIZE)          # controls default text sizes\n",
    "plt.rc('axes', titlesize=SMALL_SIZE)     # fontsize of the axes title\n",
    "plt.rc('axes', labelsize=MEDIUM_SIZE)    # fontsize of the x and y labels\n",
    "plt.rc('xtick', labelsize=SMALL_SIZE)    # fontsize of the tick labels\n",
    "plt.rc('ytick', labelsize=SMALL_SIZE)    # fontsize of the tick labels\n",
    "plt.rc('legend', fontsize=SMALL_SIZE)    # legend fontsize\n",
    "plt.rc('figure', titlesize=BIGGER_SIZE)  # fontsize of the figure title\n",
    "\n",
    "df_train = pd.read_csv('plot_data/epoch_eta.csv', header=None)\n",
    "near_optimal = np.array([0.229384054432 for i in range(len(df_train))])\n",
    "\n",
    "X_epoch = df_train[0].tolist()\n",
    "Y_train = df_train[1].tolist()\n",
    "\n",
    "plt.plot(X_epoch, Y_train, linestyle='-')\n",
    "plt.plot(X_epoch, near_optimal, linestyle='--', linewidth=2)\n",
    "\n",
    "plt.legend(['Training Set. eta0=500, eta1=1'], prop={'size':25})\n",
    "plt.xlabel('Epoch', fontsize=35)\n",
    "plt.ylabel('Loss', fontsize=35)\n",
    "#plt.xlim([-1, 400])\n",
    "plt.ylim([0.5, 1])\n",
    "#plt.xticks(np.arange(50, 450, 50))\n",
    "plt.yticks(np.arange(0.0, 2.7, 0.2))\n",
    "\n",
    "plt.savefig('plot/epoch_eta.pdf')\n",
    "plt.show()"
   ]
  },
  {
   "cell_type": "markdown",
   "metadata": {},
   "source": [
    "### 3. Evaluating on validation set"
   ]
  },
  {
   "cell_type": "code",
   "execution_count": null,
   "metadata": {
    "collapsed": true
   },
   "outputs": [],
   "source": [
    "# (a) Plot L(theta) vs num_epochs for both training and validation set on the same figure"
   ]
  },
  {
   "cell_type": "code",
   "execution_count": null,
   "metadata": {
    "collapsed": true
   },
   "outputs": [],
   "source": [
    "# (b) Plot Accuracy vs num_epochs for both training and validation set on the same figure"
   ]
  },
  {
   "cell_type": "markdown",
   "metadata": {},
   "source": [
    "### 4. ROC and Precision-Recall curves"
   ]
  },
  {
   "cell_type": "code",
   "execution_count": null,
   "metadata": {
    "collapsed": true
   },
   "outputs": [],
   "source": [
    "#(a) Plot ROC curve on validation data"
   ]
  },
  {
   "cell_type": "markdown",
   "metadata": {},
   "source": [
    "Area under curve = __"
   ]
  },
  {
   "cell_type": "code",
   "execution_count": null,
   "metadata": {
    "collapsed": true
   },
   "outputs": [],
   "source": [
    "#(a) Plot Precision-Recall curve on validation data"
   ]
  },
  {
   "cell_type": "code",
   "execution_count": null,
   "metadata": {
    "collapsed": true
   },
   "outputs": [],
   "source": [
    "Average Precision = __"
   ]
  },
  {
   "cell_type": "markdown",
   "metadata": {},
   "source": [
    "## Question 2.4"
   ]
  },
  {
   "cell_type": "markdown",
   "metadata": {},
   "source": [
    "### 1. Submission"
   ]
  },
  {
   "cell_type": "code",
   "execution_count": null,
   "metadata": {
    "collapsed": true
   },
   "outputs": [],
   "source": [
    "import pandas as pd\n",
    "def submission(y_pred):\n",
    "    \"\"\"\n",
    "    generate the submission.csv for kaggle\n",
    "    input args:\n",
    "        y_pred: 5542x1 array or list contains 5542 elements\n",
    "        \n",
    "    \"\"\"\n",
    "    save_file = pd.DataFrame(columns=[\"Id\",\"Class\"])\n",
    "    id = np.array([idx for idx in range(5542)])\n",
    "    save_file[\"Id\"] = id\n",
    "    save_file[\"Class\"]= y_pred\n",
    "    save_file.to_csv(\"submission.csv\",index=0)       "
   ]
  },
  {
   "cell_type": "markdown",
   "metadata": {},
   "source": [
    "#### Generate the submission.csv"
   ]
  },
  {
   "cell_type": "code",
   "execution_count": 652,
   "metadata": {},
   "outputs": [
    {
     "name": "stdout",
     "output_type": "stream",
     "text": [
      "500 1\n",
      "epoch =  197\n",
      "loss  =  0.229384054432\n"
     ]
    }
   ],
   "source": [
    "LR = LogisticRegression(eta0=500)\n",
    "LR.fit(X_train,y_train)"
   ]
  },
  {
   "cell_type": "code",
   "execution_count": 653,
   "metadata": {
    "collapsed": true
   },
   "outputs": [],
   "source": [
    "y_pred = LR.predict(X_test)\n",
    "LR.save_predicts(y_pred)"
   ]
  },
  {
   "cell_type": "code",
   "execution_count": null,
   "metadata": {
    "collapsed": true
   },
   "outputs": [],
   "source": []
  },
  {
   "cell_type": "markdown",
   "metadata": {},
   "source": [
    "Best obtained accuracy on Public Leader-board = __%"
   ]
  },
  {
   "cell_type": "code",
   "execution_count": null,
   "metadata": {
    "collapsed": true
   },
   "outputs": [],
   "source": []
  }
 ],
 "metadata": {
  "kernelspec": {
   "display_name": "Python 3",
   "language": "python",
   "name": "python3"
  },
  "language_info": {
   "codemirror_mode": {
    "name": "ipython",
    "version": 3
   },
   "file_extension": ".py",
   "mimetype": "text/x-python",
   "name": "python",
   "nbconvert_exporter": "python",
   "pygments_lexer": "ipython3",
   "version": "3.6.3"
  }
 },
 "nbformat": 4,
 "nbformat_minor": 2
}
