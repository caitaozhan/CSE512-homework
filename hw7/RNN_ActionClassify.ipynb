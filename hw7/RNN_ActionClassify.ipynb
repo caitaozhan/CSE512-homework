{
 "cells": [
  {
   "cell_type": "markdown",
   "metadata": {},
   "source": [
    "# Sequence Classification using Recurrent Neural Networks(RNN)\n",
    "In this homework, you will learn how to train a recurrent neural network for human action classification. RNN is designed handle sequential data. The network can incorporate both past history and current input. [This](http://colah.github.io/posts/2015-08-Understanding-LSTMs/) is a very good tutorial. You should read it before you start."
   ]
  },
  {
   "cell_type": "markdown",
   "metadata": {},
   "source": [
    "## Setup\n",
    "Please make sure you have h5py and torchnet installed\n",
    "> pip install h5py\n",
    "\n",
    "> pip install git+https://github.com/pytorch/tnt.git@master\n"
   ]
  },
  {
   "cell_type": "code",
   "execution_count": 2,
   "metadata": {},
   "outputs": [
    {
     "name": "stdout",
     "output_type": "stream",
     "text": [
      "use cuda: True\n"
     ]
    }
   ],
   "source": [
    "import os\n",
    "import numpy as np\n",
    "import h5py\n",
    "\n",
    "import torch\n",
    "import torch.nn as nn\n",
    "from torch.autograd import Variable\n",
    "import torch.utils.data as DD\n",
    "import torchnet as tnt\n",
    "import matplotlib.pyplot as plt\n",
    "%matplotlib inline\n",
    "from IPython.display import clear_output\n",
    "\n",
    "use_cuda = torch.cuda.is_available()\n",
    "print('use cuda: %s'%(use_cuda))\n",
    "FloatTensor = torch.cuda.FloatTensor if use_cuda else torch.FloatTensor\n",
    "LongTensor = torch.cuda.LongTensor if use_cuda else torch.LongTensor\n",
    "ByteTensor = torch.cuda.ByteTensor if use_cuda else torch.ByteTensor"
   ]
  },
  {
   "cell_type": "markdown",
   "metadata": {},
   "source": [
    "## Dataset\n",
    "The data we are using is skeleton data, which indicates the 3D locations of body joints. In total, there are 25 body joints. It is collected by Kinect v2. To make it easier, each sequence have same number of frames. You need to classify 10 different actions. There are 2000 training sequences, 400 validation sequences, and 500 test sequences. Each sequence has 15 frames, each frame is a 75-dimension vector (3*25).\n",
    "\n",
    "For your convenience, we provide the dataloader for you.\n"
   ]
  },
  {
   "cell_type": "code",
   "execution_count": 3,
   "metadata": {},
   "outputs": [],
   "source": [
    "class Dataset(DD.Dataset):\n",
    "    # subset can be: 'train', 'val', 'test'\n",
    "    def __init__(self, data_path, subset='train'):\n",
    "        super(Dataset, self).__init__()\n",
    "        self.data_path = os.path.join(data_path, '%s_data.h5'%subset)\n",
    "        self.subset = subset\n",
    "\n",
    "        with h5py.File(self.data_path) as f:\n",
    "            self.data = np.array(f['data'])\n",
    "\n",
    "        if subset != 'test':\n",
    "            self.label_path = os.path.join(data_path, '%s_label.h5'%subset)\n",
    "            with h5py.File(self.label_path) as f:\n",
    "                self.label = np.array(f['label'])\n",
    "\n",
    "        self.num_sequences = self.data.shape[0]\n",
    "        self.seq_len = self.data.shape[1]\n",
    "        self.n_dim = self.data.shape[2]\n",
    "\n",
    "    def __getitem__(self, index):\n",
    "        seq = self.data[index]\n",
    "        if self.subset != 'test':\n",
    "            label = int(self.label[index])\n",
    "            sample = {'seq': seq, 'label': label}\n",
    "        else:\n",
    "            sample = {'seq': seq}\n",
    "        return sample\n",
    "\n",
    "    def __len__(self):\n",
    "        return self.num_sequences\n",
    "\n",
    "trSet = Dataset('./data', subset='train')\n",
    "valSet = Dataset('./data', subset='val')\n",
    "tstSet = Dataset('./data', subset='test')\n",
    "\n",
    "batch_size = 50\n",
    "trLD = DD.DataLoader(trSet, batch_size=batch_size, sampler=DD.sampler.RandomSampler(trSet), \n",
    "                     num_workers=8, pin_memory=False)\n",
    "\n",
    "valLD = DD.DataLoader(valSet, batch_size=batch_size, sampler=DD.sampler.SequentialSampler(valSet),\n",
    "                      num_workers=8, pin_memory=False)\n",
    "\n",
    "tstLD = DD.DataLoader(tstSet, batch_size=batch_size, sampler=DD.sampler.SequentialSampler(tstSet),\n",
    "                      num_workers=8, pin_memory=False)\n",
    "\n",
    "input_dim = trSet.n_dim\n",
    "num_class = 10"
   ]
  },
  {
   "cell_type": "code",
   "execution_count": 4,
   "metadata": {},
   "outputs": [
    {
     "data": {
      "text/plain": [
       "(2000, 15, 75)"
      ]
     },
     "execution_count": 4,
     "metadata": {},
     "output_type": "execute_result"
    }
   ],
   "source": [
    "trSet.data.shape"
   ]
  },
  {
   "cell_type": "markdown",
   "metadata": {},
   "source": [
    "## Model\n",
    "Pytorch has implemented different types of recurrent layers for you. For this homework, you can use any type of RNNs as you want:\n",
    "> torch.nn.RNN()\n",
    "\n",
    "> torch.nn.LSTM()\n",
    "\n",
    "> torch.nn.GRU()\n",
    "\n",
    "You can check details for different types of recurrent layers here: [RNN](http://pytorch.org/docs/master/nn.html#torch.nn.RNN), [LSTM]( http://pytorch.org/docs/master/nn.html#torch.nn.LSTM), [GRU](http://pytorch.org/docs/master/nn.html#torch.nn.GRU)\n",
    "\n",
    "\n",
    "### Implement a specific model\n",
    "In this section, you need to implement a model for sequence classification. The model has following layers:\n",
    "* A linear layer that can map features of 75-dimension to 100-dimension.\n",
    "* 1 Layer LSTM layer with hidden size of 100\n",
    "* A linear layer that goes from 100 to num_class (10). \n",
    "\n",
    "An LSTM layer takes an input of size of (batch_size, seq_len, fea_dim) and outputs a variable of shape (batch_size, seq_len, hidden_size). In this homework, the classification score for a sequence is the classification score for the last step of rnn_outputs.\n",
    "\n"
   ]
  },
  {
   "cell_type": "markdown",
   "metadata": {},
   "source": [
    "## Note that this specific model is a very poor model"
   ]
  },
  {
   "cell_type": "code",
   "execution_count": 66,
   "metadata": {},
   "outputs": [
    {
     "data": {
      "text/plain": [
       "SequenceClassify(\n",
       "  (project_layer): Linear(in_features=75, out_features=100, bias=True)\n",
       "  (recurrent_layer): LSTM(100, 100, batch_first=True)\n",
       "  (classify_layer): Linear(in_features=100, out_features=10, bias=True)\n",
       ")"
      ]
     },
     "execution_count": 66,
     "metadata": {},
     "output_type": "execute_result"
    }
   ],
   "source": [
    "# sequence classification model\n",
    "class SequenceClassify(nn.Module):\n",
    "    def __init__(self):\n",
    "        super(SequenceClassify, self).__init__()\n",
    "        \n",
    "        ############## 1st To Do (10 points) ##############\n",
    "        ###################################################\n",
    "        self.project_layer = nn.Linear(75, 100)\n",
    "        self.recurrent_layer = nn.LSTM(input_size=100, hidden_size=100, batch_first=True)\n",
    "        self.classify_layer = nn.Linear(100, 10)\n",
    "        ###################################################\n",
    "    \n",
    "    # the size of input is [batch_size, seq_len(15), input_dim(75)]\n",
    "    # the size of logits is [batch_size, num_class]\n",
    "    def forward(self, input, h_t_1=None, c_t_1=None):\n",
    "        # the size of rnn_outputs is [batch_size, seq_len, rnn_size]\n",
    "        rnn_outputs, (hn, cn) = self.recurrent_layer(self.project_layer(input))\n",
    "        # classify the last step of rnn_outpus\n",
    "        # the size of logits is [batch_size, num_class]\n",
    "        logits = self.classify_layer(rnn_outputs[:, -1])\n",
    "        return logits\n",
    "\n",
    "model = SequenceClassify()\n",
    "model.cuda()"
   ]
  },
  {
   "cell_type": "markdown",
   "metadata": {},
   "source": [
    "## Train the model\n",
    "After you have the dataloader and model, you can start training the model. Define a SGD optimizer with learning rate of 1e-3, and a cross-entropy loss function:"
   ]
  },
  {
   "cell_type": "code",
   "execution_count": 67,
   "metadata": {},
   "outputs": [],
   "source": [
    "################ 2nd To Do  (5 points)##################\n",
    "optimizer = torch.optim.SGD(model.parameters(), lr=1e-3)\n",
    "criterion = nn.CrossEntropyLoss().cuda()"
   ]
  },
  {
   "cell_type": "code",
   "execution_count": 68,
   "metadata": {
    "scrolled": true
   },
   "outputs": [],
   "source": [
    "# run the model for one epoch\n",
    "# can be used for both training or validation model\n",
    "def run_epoch(data_loader, model, criterion, epoch, is_training, optimizer=None):\n",
    "    if is_training:\n",
    "        model.train()\n",
    "        logger_prefix = 'train'\n",
    "    else:\n",
    "        model.eval()\n",
    "        logger_prefix = 'val'\n",
    "\n",
    "    confusion_matrix = tnt.meter.ConfusionMeter(num_class)\n",
    "    acc = tnt.meter.ClassErrorMeter(accuracy=True)\n",
    "    meter_loss = tnt.meter.AverageValueMeter()\n",
    "\n",
    "    for batch_idx, sample in enumerate(data_loader):\n",
    "        sequence = sample['seq']\n",
    "        label = sample['label']\n",
    "        input_sequence_var = Variable(sequence).type(FloatTensor)\n",
    "        input_label_var = Variable(label).type(LongTensor)\n",
    "\n",
    "        # compute output\n",
    "        # output_logits: [batch_size, num_class]\n",
    "        output_logits = model(input_sequence_var)\n",
    "        #print(output_logits.size())\n",
    "        #print(output_logits)\n",
    "        loss = criterion(output_logits, input_label_var)\n",
    "\n",
    "        if is_training:\n",
    "            optimizer.zero_grad()\n",
    "            loss.backward()\n",
    "            optimizer.step()\n",
    "\n",
    "        meter_loss.add(loss.item())\n",
    "        acc.add(output_logits.data, input_label_var.data)\n",
    "        confusion_matrix.add(output_logits.data, input_label_var.data)\n",
    "\n",
    "\n",
    "    print('%s Epoch: %d  , Loss: %.4f,  Accuracy: %.2f'%(logger_prefix, epoch, meter_loss.value()[0], acc.value()[0]))\n",
    "    return confusion_matrix, acc, meter_loss  \n"
   ]
  },
  {
   "cell_type": "code",
   "execution_count": 69,
   "metadata": {
    "scrolled": true
   },
   "outputs": [
    {
     "name": "stdout",
     "output_type": "stream",
     "text": [
      "train Epoch: 0  , Loss: 2.3107,  Accuracy: 11.00\n",
      "val Epoch: 0  , Loss: 2.3104,  Accuracy: 12.25\n",
      "train Epoch: 1  , Loss: 2.3095,  Accuracy: 10.95\n",
      "train Epoch: 2  , Loss: 2.3085,  Accuracy: 10.85\n",
      "train Epoch: 3  , Loss: 2.3075,  Accuracy: 11.00\n",
      "train Epoch: 4  , Loss: 2.3067,  Accuracy: 11.50\n",
      "train Epoch: 5  , Loss: 2.3059,  Accuracy: 11.05\n",
      "val Epoch: 5  , Loss: 2.3051,  Accuracy: 13.00\n",
      "train Epoch: 6  , Loss: 2.3052,  Accuracy: 11.15\n",
      "train Epoch: 7  , Loss: 2.3046,  Accuracy: 11.70\n",
      "train Epoch: 8  , Loss: 2.3040,  Accuracy: 11.30\n",
      "train Epoch: 9  , Loss: 2.3035,  Accuracy: 11.50\n",
      "train Epoch: 10  , Loss: 2.3031,  Accuracy: 11.00\n",
      "val Epoch: 10  , Loss: 2.3017,  Accuracy: 12.75\n",
      "train Epoch: 11  , Loss: 2.3027,  Accuracy: 11.20\n",
      "train Epoch: 12  , Loss: 2.3023,  Accuracy: 11.40\n",
      "train Epoch: 13  , Loss: 2.3019,  Accuracy: 11.40\n",
      "train Epoch: 14  , Loss: 2.3016,  Accuracy: 11.35\n",
      "train Epoch: 15  , Loss: 2.3012,  Accuracy: 11.25\n",
      "val Epoch: 15  , Loss: 2.2996,  Accuracy: 12.25\n",
      "train Epoch: 16  , Loss: 2.3010,  Accuracy: 11.35\n",
      "train Epoch: 17  , Loss: 2.3007,  Accuracy: 11.75\n",
      "train Epoch: 18  , Loss: 2.3004,  Accuracy: 11.10\n",
      "train Epoch: 19  , Loss: 2.3002,  Accuracy: 11.00\n",
      "train Epoch: 20  , Loss: 2.2999,  Accuracy: 11.20\n",
      "val Epoch: 20  , Loss: 2.2982,  Accuracy: 11.75\n",
      "train Epoch: 21  , Loss: 2.2997,  Accuracy: 11.20\n",
      "train Epoch: 22  , Loss: 2.2995,  Accuracy: 11.25\n",
      "train Epoch: 23  , Loss: 2.2992,  Accuracy: 11.45\n",
      "train Epoch: 24  , Loss: 2.2990,  Accuracy: 11.45\n",
      "train Epoch: 25  , Loss: 2.2988,  Accuracy: 11.05\n",
      "val Epoch: 25  , Loss: 2.2970,  Accuracy: 12.25\n",
      "train Epoch: 26  , Loss: 2.2986,  Accuracy: 11.40\n",
      "train Epoch: 27  , Loss: 2.2984,  Accuracy: 11.40\n",
      "train Epoch: 28  , Loss: 2.2982,  Accuracy: 11.65\n",
      "train Epoch: 29  , Loss: 2.2980,  Accuracy: 11.50\n",
      "train Epoch: 30  , Loss: 2.2978,  Accuracy: 11.80\n",
      "val Epoch: 30  , Loss: 2.2958,  Accuracy: 12.25\n",
      "train Epoch: 31  , Loss: 2.2976,  Accuracy: 11.85\n",
      "train Epoch: 32  , Loss: 2.2974,  Accuracy: 11.60\n",
      "train Epoch: 33  , Loss: 2.2972,  Accuracy: 11.95\n",
      "train Epoch: 34  , Loss: 2.2970,  Accuracy: 11.95\n",
      "train Epoch: 35  , Loss: 2.2968,  Accuracy: 11.60\n",
      "val Epoch: 35  , Loss: 2.2948,  Accuracy: 13.25\n",
      "train Epoch: 36  , Loss: 2.2967,  Accuracy: 11.75\n",
      "train Epoch: 37  , Loss: 2.2965,  Accuracy: 12.10\n",
      "train Epoch: 38  , Loss: 2.2963,  Accuracy: 11.95\n",
      "train Epoch: 39  , Loss: 2.2961,  Accuracy: 12.10\n",
      "train Epoch: 40  , Loss: 2.2959,  Accuracy: 12.20\n",
      "val Epoch: 40  , Loss: 2.2936,  Accuracy: 13.00\n",
      "train Epoch: 41  , Loss: 2.2957,  Accuracy: 12.30\n",
      "train Epoch: 42  , Loss: 2.2955,  Accuracy: 12.45\n",
      "train Epoch: 43  , Loss: 2.2952,  Accuracy: 12.25\n",
      "train Epoch: 44  , Loss: 2.2950,  Accuracy: 12.40\n",
      "train Epoch: 45  , Loss: 2.2948,  Accuracy: 12.55\n",
      "val Epoch: 45  , Loss: 2.2925,  Accuracy: 13.50\n",
      "train Epoch: 46  , Loss: 2.2946,  Accuracy: 12.60\n",
      "train Epoch: 47  , Loss: 2.2944,  Accuracy: 12.65\n",
      "train Epoch: 48  , Loss: 2.2942,  Accuracy: 12.80\n",
      "train Epoch: 49  , Loss: 2.2940,  Accuracy: 13.05\n",
      "train Epoch: 50  , Loss: 2.2938,  Accuracy: 12.70\n",
      "val Epoch: 50  , Loss: 2.2913,  Accuracy: 14.25\n",
      "train Epoch: 51  , Loss: 2.2936,  Accuracy: 13.20\n",
      "train Epoch: 52  , Loss: 2.2934,  Accuracy: 12.95\n",
      "train Epoch: 53  , Loss: 2.2931,  Accuracy: 13.70\n",
      "train Epoch: 54  , Loss: 2.2929,  Accuracy: 13.55\n",
      "train Epoch: 55  , Loss: 2.2927,  Accuracy: 13.80\n",
      "val Epoch: 55  , Loss: 2.2900,  Accuracy: 14.50\n",
      "train Epoch: 56  , Loss: 2.2925,  Accuracy: 13.75\n",
      "train Epoch: 57  , Loss: 2.2922,  Accuracy: 13.50\n",
      "train Epoch: 58  , Loss: 2.2920,  Accuracy: 13.40\n",
      "train Epoch: 59  , Loss: 2.2918,  Accuracy: 14.50\n",
      "train Epoch: 60  , Loss: 2.2915,  Accuracy: 14.05\n",
      "val Epoch: 60  , Loss: 2.2887,  Accuracy: 16.00\n",
      "train Epoch: 61  , Loss: 2.2913,  Accuracy: 14.20\n",
      "train Epoch: 62  , Loss: 2.2910,  Accuracy: 14.45\n",
      "train Epoch: 63  , Loss: 2.2908,  Accuracy: 13.95\n",
      "train Epoch: 64  , Loss: 2.2906,  Accuracy: 14.50\n",
      "train Epoch: 65  , Loss: 2.2903,  Accuracy: 14.95\n",
      "val Epoch: 65  , Loss: 2.2872,  Accuracy: 16.25\n",
      "train Epoch: 66  , Loss: 2.2900,  Accuracy: 15.45\n",
      "train Epoch: 67  , Loss: 2.2898,  Accuracy: 14.90\n",
      "train Epoch: 68  , Loss: 2.2895,  Accuracy: 15.05\n",
      "train Epoch: 69  , Loss: 2.2892,  Accuracy: 15.35\n",
      "train Epoch: 70  , Loss: 2.2889,  Accuracy: 15.20\n",
      "val Epoch: 70  , Loss: 2.2857,  Accuracy: 17.00\n",
      "train Epoch: 71  , Loss: 2.2887,  Accuracy: 15.80\n"
     ]
    },
    {
     "name": "stderr",
     "output_type": "stream",
     "text": [
      "Traceback (most recent call last):\n",
      "  File \"/home/wings/anaconda3/lib/python3.6/multiprocessing/queues.py\", line 240, in _feed\n",
      "    send_bytes(obj)\n",
      "  File \"/home/wings/anaconda3/lib/python3.6/multiprocessing/connection.py\", line 200, in send_bytes\n",
      "    self._send_bytes(m[offset:offset + size])\n",
      "  File \"/home/wings/anaconda3/lib/python3.6/multiprocessing/connection.py\", line 404, in _send_bytes\n",
      "    self._send(header + buf)\n",
      "  File \"/home/wings/anaconda3/lib/python3.6/multiprocessing/connection.py\", line 368, in _send\n",
      "    n = write(self._handle, buf)\n",
      "OSError: [Errno 9] Bad file descriptor\n"
     ]
    },
    {
     "name": "stdout",
     "output_type": "stream",
     "text": [
      "train Epoch: 72  , Loss: 2.2884,  Accuracy: 16.00\n",
      "train Epoch: 73  , Loss: 2.2881,  Accuracy: 16.50\n",
      "train Epoch: 74  , Loss: 2.2878,  Accuracy: 15.80\n",
      "train Epoch: 75  , Loss: 2.2875,  Accuracy: 16.60\n",
      "val Epoch: 75  , Loss: 2.2839,  Accuracy: 18.00\n",
      "train Epoch: 76  , Loss: 2.2871,  Accuracy: 16.55\n",
      "train Epoch: 77  , Loss: 2.2868,  Accuracy: 16.80\n",
      "train Epoch: 78  , Loss: 2.2865,  Accuracy: 16.90\n",
      "train Epoch: 79  , Loss: 2.2862,  Accuracy: 16.45\n",
      "train Epoch: 80  , Loss: 2.2858,  Accuracy: 17.15\n",
      "val Epoch: 80  , Loss: 2.2820,  Accuracy: 18.75\n",
      "train Epoch: 81  , Loss: 2.2855,  Accuracy: 17.35\n",
      "train Epoch: 82  , Loss: 2.2851,  Accuracy: 16.65\n",
      "train Epoch: 83  , Loss: 2.2847,  Accuracy: 17.25\n"
     ]
    },
    {
     "name": "stderr",
     "output_type": "stream",
     "text": [
      "Traceback (most recent call last):\n",
      "  File \"/home/wings/anaconda3/lib/python3.6/multiprocessing/queues.py\", line 240, in _feed\n",
      "    send_bytes(obj)\n",
      "  File \"/home/wings/anaconda3/lib/python3.6/multiprocessing/connection.py\", line 200, in send_bytes\n",
      "    self._send_bytes(m[offset:offset + size])\n",
      "  File \"/home/wings/anaconda3/lib/python3.6/multiprocessing/connection.py\", line 404, in _send_bytes\n",
      "    self._send(header + buf)\n",
      "  File \"/home/wings/anaconda3/lib/python3.6/multiprocessing/connection.py\", line 368, in _send\n",
      "    n = write(self._handle, buf)\n",
      "OSError: [Errno 9] Bad file descriptor\n"
     ]
    },
    {
     "name": "stdout",
     "output_type": "stream",
     "text": [
      "train Epoch: 84  , Loss: 2.2843,  Accuracy: 17.30\n",
      "train Epoch: 85  , Loss: 2.2839,  Accuracy: 17.65\n",
      "val Epoch: 85  , Loss: 2.2797,  Accuracy: 19.50\n",
      "train Epoch: 86  , Loss: 2.2835,  Accuracy: 17.30\n",
      "train Epoch: 87  , Loss: 2.2831,  Accuracy: 17.85\n",
      "train Epoch: 88  , Loss: 2.2827,  Accuracy: 17.50\n",
      "train Epoch: 89  , Loss: 2.2822,  Accuracy: 17.85\n",
      "train Epoch: 90  , Loss: 2.2817,  Accuracy: 18.25\n",
      "val Epoch: 90  , Loss: 2.2770,  Accuracy: 20.50\n",
      "train Epoch: 91  , Loss: 2.2812,  Accuracy: 17.90\n",
      "train Epoch: 92  , Loss: 2.2807,  Accuracy: 17.70\n",
      "train Epoch: 93  , Loss: 2.2802,  Accuracy: 18.05\n",
      "train Epoch: 94  , Loss: 2.2796,  Accuracy: 18.30\n",
      "train Epoch: 95  , Loss: 2.2790,  Accuracy: 18.45\n",
      "val Epoch: 95  , Loss: 2.2738,  Accuracy: 21.00\n",
      "train Epoch: 96  , Loss: 2.2784,  Accuracy: 18.30\n",
      "train Epoch: 97  , Loss: 2.2778,  Accuracy: 18.70\n",
      "train Epoch: 98  , Loss: 2.2772,  Accuracy: 18.40\n",
      "train Epoch: 99  , Loss: 2.2764,  Accuracy: 18.90\n"
     ]
    }
   ],
   "source": [
    "confusion_matrix, acc, meter_loss = None, None, None\n",
    "\n",
    "num_epochs = 100\n",
    "evaluate_every_epoch = 5\n",
    "for e in range(num_epochs):\n",
    "    confusion_matrix, acc, meter_loss = run_epoch(trLD, model, criterion, e, True, optimizer)\n",
    "    if e % evaluate_every_epoch == 0:\n",
    "        run_epoch(valLD, model, criterion, e, False, None) "
   ]
  },
  {
   "cell_type": "markdown",
   "metadata": {},
   "source": [
    "## Submit your results on Kaggle\n",
    "\n",
    "### Train a better model for action recognition!\n",
    "Now it's your job to experiment with architectures, hyperparameters, loss functions, and optimizers to train a model that achieves better accuracy on the action recognition validation set.\n",
    "\n",
    "\n",
    "### Testing the model and submit on Kaggle\n",
    "Testing the model on the testing set and save the results as a .csv file. \n",
    "Please submitted the results.csv file generated by predict_on_test() to Kaggle(https://www.kaggle.com/t/934b80879bd741e6ac1967195604d4d9) to see how well your network performs on the test set. \n",
    "################ 3rd To Do  (20 points, the highest 3 entries get extra 10 points) ###############\n"
   ]
  },
  {
   "cell_type": "code",
   "execution_count": 45,
   "metadata": {},
   "outputs": [
    {
     "data": {
      "text/plain": [
       "SequenceClassify(\n",
       "  (recurrent_layer): LSTM(75, 200, num_layers=2, batch_first=True)\n",
       "  (classify_layer): Linear(in_features=3000, out_features=10, bias=True)\n",
       ")"
      ]
     },
     "execution_count": 45,
     "metadata": {},
     "output_type": "execute_result"
    }
   ],
   "source": [
    "# sequence classification model\n",
    "class SequenceClassify(nn.Module):\n",
    "    def __init__(self):\n",
    "        super(SequenceClassify, self).__init__()\n",
    "        \n",
    "        self.recurrent_layer = nn.LSTM(input_size=75, hidden_size=200, num_layers=2, batch_first=True)\n",
    "        self.classify_layer = nn.Linear(200*15, 10)\n",
    "    \n",
    "    # the size of input is [batch_size, seq_len(15), input_dim(75)]\n",
    "    # the size of logits is [batch_size, num_class]\n",
    "    def forward(self, input, h_t_1=None, c_t_1=None):\n",
    "        # the size of rnn_outputs is [batch_size, seq_len, rnn_size]\n",
    "        rnn_outputs, (hn, cn) = self.recurrent_layer(input)\n",
    "        # classify the last step of rnn_outpus\n",
    "        # the size of logits is [batch_size, num_class]\n",
    "        logits = self.classify_layer(rnn_outputs.reshape(batch_size, -1))\n",
    "        return logits\n",
    "\n",
    "model = SequenceClassify()\n",
    "model.cuda()"
   ]
  },
  {
   "cell_type": "code",
   "execution_count": 46,
   "metadata": {},
   "outputs": [],
   "source": [
    "optimizer = torch.optim.SGD(model.parameters(), lr=1e-2, momentum=0.5)\n",
    "#optimizer = torch.optim.Adam(model.parameters(), lr = 0.01)\n",
    "criterion = nn.CrossEntropyLoss().cuda()"
   ]
  },
  {
   "cell_type": "code",
   "execution_count": 47,
   "metadata": {},
   "outputs": [
    {
     "data": {
      "image/png": "[encoded data removed]",
      "text/plain": [
       "<Figure size 1152x576 with 2 Axes>"
      ]
     },
     "metadata": {},
     "output_type": "display_data"
    }
   ],
   "source": [
    "train_loss = []\n",
    "train_acc  = []\n",
    "val_loss   = []\n",
    "val_acc    = []\n",
    "PATH = './models/best_model_{}.pt'\n",
    "\n",
    "best_acc = 0\n",
    "num_epochs = 200\n",
    "for e in range(num_epochs):\n",
    "    t_l, t_a = run_epoch(trLD, model, criterion, e, True, optimizer)\n",
    "    train_loss.append(t_l)\n",
    "    train_acc.append(t_a)\n",
    "    \n",
    "    v_l, v_a = run_epoch(valLD, model, criterion, e, False, None)\n",
    "    val_loss.append(v_l)\n",
    "    val_acc.append(v_a)\n",
    "    if v_a > best_acc:\n",
    "        best_acc = v_a\n",
    "        torch.save(model, PATH.format(str(v_a)))\n",
    "    \n",
    "    clear_output(True)\n",
    "    plt.figure(figsize=(16, 8))\n",
    "    plt.subplot(121)\n",
    "    plt.plot(train_loss)\n",
    "    plt.plot(val_loss)\n",
    "    plt.title('Loss: Train VS Val', fontsize=20)\n",
    "    plt.legend(['Train', 'Val'])\n",
    "    plt.subplot(122)\n",
    "    plt.plot(train_acc)\n",
    "    plt.plot(val_acc)\n",
    "    plt.title('Accuracy: Train VS Val', fontsize=20)\n",
    "    plt.legend(['Train', 'Val'])\n",
    "    plt.show()"
   ]
  },
  {
   "cell_type": "code",
   "execution_count": 42,
   "metadata": {},
   "outputs": [
    {
     "data": {
      "text/plain": [
       "0.01"
      ]
     },
     "execution_count": 42,
     "metadata": {},
     "output_type": "execute_result"
    }
   ],
   "source": [
    "optimizer.param_groups[0]['lr']"
   ]
  },
  {
   "cell_type": "code",
   "execution_count": 37,
   "metadata": {},
   "outputs": [],
   "source": [
    "optimizer.param_groups[0]['momentum'] = 0.8"
   ]
  },
  {
   "cell_type": "code",
   "execution_count": 9,
   "metadata": {
    "scrolled": false
   },
   "outputs": [],
   "source": [
    "# run the model for one epoch\n",
    "# can be used for both training or validation model\n",
    "def run_epoch(data_loader, model, criterion, epoch, is_training, optimizer=None):\n",
    "    if is_training:\n",
    "        model.train()\n",
    "        logger_prefix = 'train'\n",
    "    else:\n",
    "        model.eval()\n",
    "        logger_prefix = 'val'\n",
    "\n",
    "    acc = tnt.meter.ClassErrorMeter(accuracy=True)\n",
    "    meter_loss = tnt.meter.AverageValueMeter()\n",
    "\n",
    "    for batch_idx, sample in enumerate(data_loader):\n",
    "        sequence = sample['seq']\n",
    "        label = sample['label']\n",
    "        input_sequence_var = Variable(sequence).type(FloatTensor)\n",
    "        input_label_var = Variable(label).type(LongTensor)\n",
    "\n",
    "        # compute output\n",
    "        # output_logits: [batch_size, num_class]\n",
    "        output_logits = model(input_sequence_var)\n",
    "        #print(output_logits.size())\n",
    "        #print(output_logits)\n",
    "        loss = criterion(output_logits, input_label_var)\n",
    "\n",
    "        if is_training:\n",
    "            optimizer.zero_grad()\n",
    "            loss.backward()\n",
    "            optimizer.step()\n",
    "\n",
    "        meter_loss.add(loss.item())\n",
    "        acc.add(output_logits.data, input_label_var.data)\n",
    "\n",
    "\n",
    "    #print('%s Epoch: %d  , Loss: %.4f,  Accuracy: %.2f'%(logger_prefix, epoch, meter_loss.value()[0], acc.value()[0]))\n",
    "    return meter_loss.value()[0], acc.value()[0]\n",
    " "
   ]
  },
  {
   "cell_type": "code",
   "execution_count": null,
   "metadata": {},
   "outputs": [],
   "source": []
  },
  {
   "cell_type": "code",
   "execution_count": 8,
   "metadata": {},
   "outputs": [],
   "source": [
    "# Use your best model to generate results on test set.\n",
    "\n",
    "# generate csv file for test set\n",
    "def predict_on_test(model, data_loader):\n",
    "    model.eval() # Put the model in test mode (the opposite of model.train(), essentially)\n",
    "    results=open('results.csv','w')\n",
    "    count=0\n",
    "    results.write('Id'+','+'Class'+'\\n')\n",
    "    for batch_idx, sample in enumerate(data_loader):\n",
    "        sequence = sample['seq']\n",
    "        input_sequence_var = Variable(sequence).type(FloatTensor)\n",
    "        scores = model(input_sequence_var)\n",
    "        _, preds = scores.data.max(1)\n",
    "        for i in range(len(preds)):\n",
    "            results.write(str(count)+','+str(preds[i].item())+'\\n')\n",
    "            count+=1\n",
    "    results.close()\n",
    "    return count\n"
   ]
  },
  {
   "cell_type": "code",
   "execution_count": 48,
   "metadata": {},
   "outputs": [
    {
     "name": "stdout",
     "output_type": "stream",
     "text": [
      "1000\n"
     ]
    },
    {
     "name": "stderr",
     "output_type": "stream",
     "text": [
      "/home/wings/anaconda3/lib/python3.6/site-packages/ipykernel_launcher.py:13: UserWarning: RNN module weights are not part of single contiguous chunk of memory. This means they need to be compacted at every call, possibly greatly increasing memory usage. To compact weights again call flatten_parameters().\n",
      "  del sys.path[0]\n"
     ]
    }
   ],
   "source": [
    "model_load = torch.load('./models/best_model_81.0.pt')\n",
    "count=predict_on_test(model_load, tstLD)\n",
    "print(count)"
   ]
  },
  {
   "cell_type": "markdown",
   "metadata": {},
   "source": [
    "## Report the performance\n",
    "################ 4th To Do  (5 points)##################\n",
    "\n",
    "In this cell, you should write an explanation of what you did (network architecture, optimiziter, learning rate, epochs) and any visualizations or graphs that you make in the process of training and evaluating your network.\n",
    "\n",
    "Report your Kaggle Performance here:"
   ]
  },
  {
   "cell_type": "markdown",
   "metadata": {},
   "source": [
    "### 1. Increase hidden_size to {200, 400}\n",
    "### 2. Add a second LSTM layer\n",
    "### 3. Add dropout {0.2, 0.5}"
   ]
  },
  {
   "cell_type": "markdown",
   "metadata": {},
   "source": [
    "## version 0.1.x"
   ]
  },
  {
   "cell_type": "code",
   "execution_count": 59,
   "metadata": {},
   "outputs": [
    {
     "data": {
      "text/plain": [
       "SequenceClassify(\n",
       "  (recurrent_layer): LSTM(75, 400, num_layers=2, batch_first=True, dropout=0.5)\n",
       "  (classify_layer): Linear(in_features=400, out_features=10, bias=True)\n",
       ")"
      ]
     },
     "execution_count": 59,
     "metadata": {},
     "output_type": "execute_result"
    }
   ],
   "source": [
    "# sequence classification model\n",
    "class SequenceClassify(nn.Module):\n",
    "    def __init__(self):\n",
    "        super(SequenceClassify, self).__init__()\n",
    "        \n",
    "        self.recurrent_layer = nn.LSTM(input_size=75, hidden_size=400, num_layers=2, dropout=0.5, batch_first=True)\n",
    "        self.classify_layer = nn.Linear(400, 10)\n",
    "    \n",
    "    # the size of input is [batch_size, seq_len(15), input_dim(75)]\n",
    "    # the size of logits is [batch_size, num_class]\n",
    "    def forward(self, input, h_t_1=None, c_t_1=None):\n",
    "        # the size of rnn_outputs is [batch_size, seq_len, rnn_size]\n",
    "        rnn_outputs, (hn, cn) = self.recurrent_layer(input)\n",
    "        # classify the last step of rnn_outpus\n",
    "        # the size of logits is [batch_size, seq_len]\n",
    "        logits = self.classify_layer(rnn_outputs[:, -1])\n",
    "        return logits\n",
    "\n",
    "model = SequenceClassify()\n",
    "model.cuda()"
   ]
  }
 ],
 "metadata": {
  "kernelspec": {
   "display_name": "Python 3",
   "language": "python",
   "name": "python3"
  },
  "language_info": {
   "codemirror_mode": {
    "name": "ipython",
    "version": 3
   },
   "file_extension": ".py",
   "mimetype": "text/x-python",
   "name": "python",
   "nbconvert_exporter": "python",
   "pygments_lexer": "ipython3",
   "version": "3.6.5"
  }
 },
 "nbformat": 4,
 "nbformat_minor": 2
}
